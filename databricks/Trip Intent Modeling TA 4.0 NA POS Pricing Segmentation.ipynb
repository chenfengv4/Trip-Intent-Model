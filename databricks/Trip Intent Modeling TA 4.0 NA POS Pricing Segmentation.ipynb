{
 "cells": [
  {
   "cell_type": "code",
   "execution_count": 0,
   "metadata": {
    "application/vnd.databricks.v1+cell": {
     "cellMetadata": {},
     "inputWidgets": {},
     "nuid": "22f26c4b-4b5d-4b6d-b5aa-4954ae4fe75d",
     "showTitle": false,
     "title": ""
    }
   },
   "outputs": [],
   "source": [
    "#Read Manual here: \\\\corpaa.aa.com\\campusshared\\HDQ\\HDQ_REVMGMT_Share\\RMDEPT\\Revenue Analysis\\Atlantic RA\\Adhoc Projects\\2024.01 RA Trip Intent Model\\Manual-read_me"
   ]
  },
  {
   "cell_type": "markdown",
   "metadata": {
    "application/vnd.databricks.v1+cell": {
     "cellMetadata": {},
     "inputWidgets": {},
     "nuid": "b51c3c49-a0be-4d7d-a527-5a7dc5e83a36",
     "showTitle": false,
     "title": ""
    }
   },
   "source": [
    "#Import all required packages"
   ]
  },
  {
   "cell_type": "markdown",
   "metadata": {
    "application/vnd.databricks.v1+cell": {
     "cellMetadata": {},
     "inputWidgets": {},
     "nuid": "6d62355b-0e0e-4951-8859-c2843174e76e",
     "showTitle": false,
     "title": ""
    }
   },
   "source": [
    "install the resampling package for ML"
   ]
  },
  {
   "cell_type": "code",
   "execution_count": 0,
   "metadata": {
    "application/vnd.databricks.v1+cell": {
     "cellMetadata": {
      "byteLimit": 2048000,
      "rowLimit": 10000
     },
     "inputWidgets": {},
     "nuid": "0eaa4b05-3a42-40a5-9499-173f0cbf9d1c",
     "showTitle": false,
     "title": ""
    }
   },
   "outputs": [],
   "source": [
    "pip install imblearn"
   ]
  },
  {
   "cell_type": "code",
   "execution_count": 0,
   "metadata": {
    "application/vnd.databricks.v1+cell": {
     "cellMetadata": {
      "byteLimit": 2048000,
      "rowLimit": 10000
     },
     "inputWidgets": {},
     "nuid": "81146a3c-07a9-4dfc-a215-702310ebaa88",
     "showTitle": false,
     "title": ""
    }
   },
   "outputs": [],
   "source": [
    "pip install -U scikit-learn "
   ]
  },
  {
   "cell_type": "markdown",
   "metadata": {
    "application/vnd.databricks.v1+cell": {
     "cellMetadata": {},
     "inputWidgets": {},
     "nuid": "70426962-79f9-49b2-964c-297c8a748558",
     "showTitle": false,
     "title": ""
    }
   },
   "source": [
    "import all needed packages. Use your own user id for mosaic for adhoc code tuning"
   ]
  },
  {
   "cell_type": "code",
   "execution_count": 0,
   "metadata": {
    "application/vnd.databricks.v1+cell": {
     "cellMetadata": {
      "byteLimit": 2048000,
      "rowLimit": 10000
     },
     "inputWidgets": {},
     "nuid": "0ee76aae-fc73-46d8-913c-9efc7546d601",
     "showTitle": false,
     "title": ""
    }
   },
   "outputs": [],
   "source": [
    "#put all required modules here\n",
    "from murph import mosaic, rm_fileshare\n",
    "import numpy as np \n",
    "import pandas as pd \n",
    "import datetime as dt\n",
    "user = \"866810\"\n",
    "mos = mosaic(user = user, tmode='TERA')\n",
    "group_name = 'group110'\n",
    "fileshare = rm_fileshare(group_name)\n",
    "from sklearn.model_selection import train_test_split\n",
    "from sklearn import tree\n",
    "from sklearn.tree import DecisionTreeClassifier\n",
    "from sklearn.metrics import confusion_matrix, ConfusionMatrixDisplay, accuracy_score\n",
    "import matplotlib.pyplot as plt\n",
    "from sklearn.ensemble import RandomForestClassifier\n",
    "from sklearn.inspection import permutation_importance\n",
    "\n",
    "import imblearn\n",
    "from imblearn.over_sampling import RandomOverSampler\n",
    "from imblearn.over_sampling import SMOTE\n",
    "from sklearn import preprocessing\n",
    "from sklearn.metrics import precision_recall_fscore_support\n",
    "# the provided feature data time range is 10/01/2022 to 09/30/2023. Be consistant with this for all data pulling"
   ]
  },
  {
   "cell_type": "markdown",
   "metadata": {
    "application/vnd.databricks.v1+cell": {
     "cellMetadata": {},
     "inputWidgets": {},
     "nuid": "e2592de4-0e4b-4ea4-93be-8ecb37e0a4bb",
     "showTitle": false,
     "title": ""
    }
   },
   "source": [
    "# Data Reading and Processing"
   ]
  },
  {
   "cell_type": "code",
   "execution_count": 0,
   "metadata": {
    "application/vnd.databricks.v1+cell": {
     "cellMetadata": {
      "byteLimit": 2048000,
      "rowLimit": 10000
     },
     "inputWidgets": {},
     "nuid": "d2966404-9e63-47bc-b037-1bce31001f19",
     "showTitle": false,
     "title": ""
    }
   },
   "outputs": [],
   "source": [
    "features_path = fileshare.path(directory_name=\"ra/projects/RA_trip_Intent_Model\", file_name=\"features_20221001_to_20230930.csv\")\n",
    "or_features = pd.read_csv(features_path,on_bad_lines='skip')\n",
    "or_features.columns = or_features.columns.str.lower()\n",
    "or_features.head(10)"
   ]
  },
  {
   "cell_type": "code",
   "execution_count": 0,
   "metadata": {
    "application/vnd.databricks.v1+cell": {
     "cellMetadata": {
      "byteLimit": 2048000,
      "rowLimit": 10000
     },
     "inputWidgets": {},
     "nuid": "190a6ce4-5bc2-4574-8a2f-32e1d9df2006",
     "showTitle": false,
     "title": ""
    }
   },
   "outputs": [],
   "source": [
    "#get TA data and NA pos\n",
    "or_features_eu_only = or_features.loc[(or_features.rm_region_eu_ind == 1)&(or_features.tkt_cntry_issue_cd.isin(['US','CA','PR','VI']))].copy()\n",
    "or_features_eu_only.shape"
   ]
  },
  {
   "cell_type": "code",
   "execution_count": 0,
   "metadata": {
    "application/vnd.databricks.v1+cell": {
     "cellMetadata": {
      "byteLimit": 2048000,
      "rowLimit": 10000
     },
     "inputWidgets": {},
     "nuid": "f9b758ae-ae69-423c-9279-7c0787840ac0",
     "showTitle": false,
     "title": ""
    }
   },
   "outputs": [],
   "source": [
    "#save  to csv\n",
    "fileshare.to_csv(or_features_eu_only, \"ra/projects/RA_Trip_Intent_Model/OR_features_eu_only.csv\", index=False)"
   ]
  },
  {
   "cell_type": "code",
   "execution_count": 0,
   "metadata": {
    "application/vnd.databricks.v1+cell": {
     "cellMetadata": {
      "byteLimit": 2048000,
      "rowLimit": 10000
     },
     "inputWidgets": {},
     "nuid": "d3c247cc-5609-40d6-b1e9-d1037ec949bf",
     "showTitle": false,
     "title": ""
    }
   },
   "outputs": [],
   "source": [
    "or_features_eu_only.shape"
   ]
  },
  {
   "cell_type": "markdown",
   "metadata": {
    "application/vnd.databricks.v1+cell": {
     "cellMetadata": {},
     "inputWidgets": {},
     "nuid": "849ffd47-14f2-4e63-ac8c-79dd47853e86",
     "showTitle": false,
     "title": ""
    }
   },
   "source": [
    "## Import EU/TA feature data from Original OR features \n",
    "####This data only include features with rm_eu_indicator = 1. EU and GB/UK are included."
   ]
  },
  {
   "cell_type": "code",
   "execution_count": 0,
   "metadata": {
    "application/vnd.databricks.v1+cell": {
     "cellMetadata": {
      "byteLimit": 2048000,
      "rowLimit": 10000
     },
     "inputWidgets": {},
     "nuid": "a8b7d366-720d-4523-b262-5b1133f1a091",
     "showTitle": false,
     "title": ""
    }
   },
   "outputs": [],
   "source": [
    "#read EU data and lower strings of all column names\n",
    "features_path = fileshare.path(directory_name=\"ra/projects/RA_Trip_Intent_Model\", file_name=\"OR_features_eu_only.csv\")\n",
    "or_features = pd.read_csv(features_path)\n",
    "or_features.columns = or_features.columns.str.lower()\n",
    "or_features.head(10)"
   ]
  },
  {
   "cell_type": "code",
   "execution_count": 0,
   "metadata": {
    "application/vnd.databricks.v1+cell": {
     "cellMetadata": {
      "byteLimit": 2048000,
      "rowLimit": 10000
     },
     "inputWidgets": {},
     "nuid": "877c9c05-f06b-4014-9a78-529f0529bf9e",
     "showTitle": false,
     "title": ""
    }
   },
   "outputs": [],
   "source": [
    "#first selection of sebset of features. The original data contains 300+ features\n",
    "or_features_short = or_features[[\n",
    "\n",
    "'pnr_loctr_id',\n",
    "'pnr_create_dt',\n",
    "'pnr_od',\n",
    "'pnr_ndod',\n",
    "'pnr_dep_dt',\n",
    "'pnr_dep_dow',\n",
    "'pnr_return_dt',\n",
    "'pnr_return_dow',\n",
    "'trip_duration',\n",
    "'round_trip_type',\n",
    "'trip_type',\n",
    "'ap',\n",
    "'pnr_origin_airprt_iata_cd',\n",
    "'pnr_origin_metro_city_cd',\n",
    "'pnr_origin_cntry_cd',\n",
    "'pnr_destntn_airprt_iata_cd',\n",
    "'pnr_destntn_metro_city_cd',\n",
    "'pnr_destntn_cntry_cd',\n",
    "'connecting_ind',\n",
    "'not_using_closest_airprt',\n",
    "'dep_return_airprt_different_ind',\n",
    "'pnr_premium_cabin_ind', #whether any passenger in pnr was booked in WCF cabins\n",
    "'pnr_max_cabin_cd',\n",
    "'pnr_max_lylty_level_num',\n",
    "'tkt_cntry_issue_cd', #may need to filter on this to be 'US' for the following analysis\n",
    " 'group_size',\n",
    " 'prime_chanl_type_cd',\n",
    "\n",
    " #model labels\n",
    " 'trip_subpurpose',\n",
    " 'or_trip_purpose',\n",
    "'css_trip_purpose',\n",
    "\n",
    "                          ]]"
   ]
  },
  {
   "cell_type": "code",
   "execution_count": 0,
   "metadata": {
    "application/vnd.databricks.v1+cell": {
     "cellMetadata": {
      "byteLimit": 2048000,
      "rowLimit": 10000
     },
     "inputWidgets": {},
     "nuid": "bcbc5f16-a9b8-49d1-8f6e-29b1fcfa3b90",
     "showTitle": false,
     "title": ""
    }
   },
   "outputs": [],
   "source": [
    "or_features_short.shape"
   ]
  },
  {
   "cell_type": "code",
   "execution_count": 0,
   "metadata": {
    "application/vnd.databricks.v1+cell": {
     "cellMetadata": {
      "byteLimit": 2048000,
      "rowLimit": 10000
     },
     "inputWidgets": {},
     "nuid": "0f0bdf89-5ece-415b-a664-988f01332a9a",
     "showTitle": false,
     "title": ""
    }
   },
   "outputs": [],
   "source": [
    "#create a few variable based on existing or features\n",
    "or_features_short.rename(columns = {'trip_duration':'tkt_min_stay'}, inplace= True)\n",
    "or_features_short.pnr_create_dt = or_features_short.pnr_create_dt.astype(\"datetime64[ns]\")\n",
    "or_features_short['pnr_return_dt'] = pd.to_datetime(or_features_short['pnr_return_dt'], format='%Y/%m/%d')\n",
    "or_features_short['pnr_dep_dt'] = pd.to_datetime(or_features_short['pnr_dep_dt'], format='%Y/%m/%d')\n",
    "or_features_short['pnr_create_dt'] = pd.to_datetime(or_features_short['pnr_create_dt'], format='%Y/%m/%d')\n",
    "# dayofweek will return day of week with Monday = 0 and Sunday = 7. Adding 1 to make Monday = 1 and Sunday = 7\n",
    "or_features_short['dep_dow_modified'] = or_features_short['pnr_dep_dt'].dt.dayofweek + 1\n",
    "or_features_short['return_dow_modified'] = or_features_short['pnr_return_dt'].dt.dayofweek + 1\n",
    "or_features_short['dep_dow_modified'] = or_features_short[ 'dep_dow_modified'].astype(float)\n",
    "or_features_short['return_dow_modified'] = or_features_short[ 'return_dow_modified'].astype(float)\n",
    "\n",
    "#create pax count indicator per pnr\n",
    "or_features_short['pnr_single_pax_count_indicator'] = or_features_short.group_size.apply(lambda x: 1 if x == 1 else 0)\n",
    "\n",
    "#create country as non-US country code\n",
    "def country(row):\n",
    "    if row['pnr_origin_cntry_cd'] in (['US','MX','CA']):\n",
    "      return row['pnr_destntn_cntry_cd']\n",
    "    else:\n",
    "      return row['pnr_origin_cntry_cd']\n",
    "or_features_short['country'] = or_features_short.apply(country, axis = 1)\n",
    "\n",
    "#create mkt group as UK, core EU and others\n",
    "def mkt_group(row):\n",
    "  if row['country'] == 'GB':\n",
    "    return 'UK'\n",
    "  elif row['country'] in (['DE','FR','GR','IT','NL','IE','CH','CZ','HR','HU','IS','PT','ES','FI']):\n",
    "    return 'Core EU'\n",
    "  else:\n",
    "    return 'Others'\n",
    "or_features_short['mkt_group'] = or_features_short.apply(mkt_group, axis = 1)\n",
    "\n",
    "#creating TKT MIN STAY\n",
    "\n",
    "def func_min_stay(row):\n",
    "  if row['tkt_min_stay'] >= 28:\n",
    "    return '28+ NT'\n",
    "  if row['tkt_min_stay'] >= 21 and row['tkt_min_stay']<28:\n",
    "    return '21-27 NT'\n",
    "  elif row['tkt_min_stay']>= 14 and row['tkt_min_stay'] <= 20:\n",
    "    return '14-20 NT'\n",
    "  elif row['tkt_min_stay']>= 10 and row['tkt_min_stay']<=13:\n",
    "    return '10-13 NT'\n",
    "  elif row['tkt_min_stay']>=7 and row['tkt_min_stay'] <= 9:\n",
    "    return '7-9 NT'\n",
    "  elif row['tkt_min_stay']>=1 and row['tkt_min_stay'] <=6:\n",
    "    if row['dep_dow_modified'] ==1 and row['tkt_min_stay'] >5:\n",
    "      return 'SUN'\n",
    "    elif row['dep_dow_modified'] ==2 and row['tkt_min_stay'] >4:\n",
    "      return 'SUN'\n",
    "    elif row['dep_dow_modified'] ==3 and row['tkt_min_stay'] >3:\n",
    "      return 'SUN'\n",
    "    elif row['dep_dow_modified'] ==4 and row['tkt_min_stay'] >2:\n",
    "      return 'SUN'\n",
    "    elif row['dep_dow_modified'] ==5 and row['tkt_min_stay'] >1:\n",
    "      return 'SUN'\n",
    "    elif row['dep_dow_modified'] ==6 and row['tkt_min_stay'] >0:\n",
    "      return 'SUN'\n",
    "    else:\n",
    "      return 'NO SUN'\n",
    "  elif row['tkt_min_stay'] ==0:\n",
    "    return 'Same Day Roundtrip'\n",
    "  elif row['round_trip_type'] == 'OUTBOUND ONE-WAY':\n",
    "    return 'One Way'\n",
    "  elif row['round_trip_type'] == 'ONE-WAY':\n",
    "    return 'One Way'\n",
    "  elif  row['round_trip_type'] == 'INBOUND ONE-WAY':\n",
    "    return 'One Way'\n",
    "  else:\n",
    "    return 'Error'\n",
    "or_features_short['tkt_min_stay_category'] = or_features_short.apply(func_min_stay, axis = 1)\n",
    "\n",
    "\n",
    "#creating 3 category trip intent label\n",
    "def func_trip_intent_3_cat_label(row):\n",
    "  if row['trip_subpurpose'] == 'BUSINESS_ONLY':\n",
    "    return 'Business Only'\n",
    "  elif row['trip_subpurpose'] == 'VACATION_ONLY':\n",
    "    return 'Vacation Only'\n",
    "  else:\n",
    "    return 'Blended'\n",
    "or_features_short['trip_subpurpose_3c'] = or_features_short.apply(func_trip_intent_3_cat_label, axis = 1)\n",
    "\n",
    "#creating 2 category trip intent label (based on subpurpose, not copying css trip purpose)\n",
    "def func_trip_intent_2_cat_label(row):\n",
    "  if row['trip_subpurpose'] == 'BUSINESS_ONLY':\n",
    "    return 'Business'\n",
    "  elif row['trip_subpurpose'] == 'BLEISURE':\n",
    "    return 'Business'\n",
    "  elif row['trip_subpurpose'] == 'VACATION_ONLY':\n",
    "    return 'Leisure'\n",
    "  elif row['trip_subpurpose'] == 'PERSONAL_OTHER':\n",
    "    return 'Leisure'\n",
    "  elif row['trip_subpurpose'] == 'VFR':\n",
    "    return 'Leisure'\n",
    "  else:\n",
    "    return 'Error'\n",
    "or_features_short['trip_subpurpose_2c'] = or_features_short.apply(func_trip_intent_2_cat_label, axis = 1)\n",
    "\n",
    "#creating AP category\n",
    "def func_ap_category(row):\n",
    "  if row['ap'] < 7:\n",
    "    return '0-6 AP'\n",
    "  elif row['ap'] < 14:\n",
    "    return '7-13 AP'\n",
    "  elif row['ap'] < 21:\n",
    "    return '14-20 AP'\n",
    "  elif row['ap'] < 28:\n",
    "    return '21-27 AP'\n",
    "  elif row['ap'] < 50:\n",
    "    return '28-49 AP'\n",
    "  elif row['ap'] < 90:\n",
    "    return '50-89 AP'\n",
    "  elif row['ap'] < 120:\n",
    "    return '90-119 AP'\n",
    "  elif row['ap'] < 150:\n",
    "    return '120-149 AP'\n",
    "  elif row['ap'] < 366:\n",
    "    return '150-365 AP'\n",
    "  elif row['ap'] >= 366:\n",
    "    return '365+ AP'\n",
    "  else:\n",
    "    return 'Error'\n",
    "or_features_short['tkt_ap_category'] = or_features_short.apply(func_ap_category, axis = 1)\n",
    "\n",
    "\n",
    "#adding flight quarter/year and booking quarter/year. This may help to represent seasonality\n",
    "or_features_short['flt_dep_quarter'] = or_features_short.pnr_dep_dt.dt.quarter\n",
    "or_features_short['pnr_booking_quarter'] = or_features_short.pnr_create_dt.dt.quarter\n",
    "#or_features_short['flt_dep_quarter'] = or_features_short.PeriodIndex(or_features_short.pnr_dep_dt, freq='Q')\n",
    "#or_features_short['pnr_booking_quarter'] = or_features_short.PeriodIndex(or_features_short.pnr_create_dt, freq='Q')\n",
    "\n"
   ]
  },
  {
   "cell_type": "code",
   "execution_count": 0,
   "metadata": {
    "application/vnd.databricks.v1+cell": {
     "cellMetadata": {
      "byteLimit": 2048000,
      "rowLimit": 10000
     },
     "inputWidgets": {},
     "nuid": "51f89d30-30f7-4f63-a7fa-d1f0a234af12",
     "showTitle": false,
     "title": ""
    }
   },
   "outputs": [],
   "source": [
    "or_features_short.tkt_min_stay_category.value_counts()\n"
   ]
  },
  {
   "cell_type": "code",
   "execution_count": 0,
   "metadata": {
    "application/vnd.databricks.v1+cell": {
     "cellMetadata": {
      "byteLimit": 2048000,
      "rowLimit": 10000
     },
     "inputWidgets": {},
     "nuid": "aa69a97a-9242-4d98-8543-42dc56b62e02",
     "showTitle": false,
     "title": ""
    }
   },
   "outputs": [],
   "source": [
    "#save feature_short to csv\n",
    "fileshare.to_csv(or_features_short, \"ra/projects/RA_Trip_Intent_Model/ta_or_features_short.csv\", index=False)"
   ]
  },
  {
   "cell_type": "code",
   "execution_count": 0,
   "metadata": {
    "application/vnd.databricks.v1+cell": {
     "cellMetadata": {
      "byteLimit": 2048000,
      "rowLimit": 10000
     },
     "inputWidgets": {},
     "nuid": "51bfe79c-77fb-4e3d-b4cf-a0b55670ef6d",
     "showTitle": false,
     "title": ""
    }
   },
   "outputs": [],
   "source": [
    "or_features_short.head(5)"
   ]
  },
  {
   "cell_type": "code",
   "execution_count": 0,
   "metadata": {
    "application/vnd.databricks.v1+cell": {
     "cellMetadata": {
      "byteLimit": 2048000,
      "rowLimit": 10000
     },
     "inputWidgets": {},
     "nuid": "9367bc56-0d0c-4658-b94b-650f71d7ab2b",
     "showTitle": false,
     "title": ""
    }
   },
   "outputs": [],
   "source": [
    "#creating some extra variables which are controlable by pricing. e.g.FBC\n",
    "#YM_info = mos.read_sql_to_pandas(\n",
    "YM_info = mos.read_sql(\n",
    "\"\"\"\n",
    "\n",
    "  SELECT\n",
    "TRIM(PNR_LOCTR_ID) AS PNR_LOCTR_ID,\n",
    "PNR_CREATE_DT,\n",
    "TRIM(OD_AIRPRT_PAIR_CD) AS OD_AIRPRT_PAIR_CD,\n",
    "TRNSATL_FARE_BASE_CD,\n",
    "SUBSTR(TRNSATL_FARE_BASE_CD,1,1) AS FBC1,\n",
    "SUBSTR(TRNSATL_FARE_BASE_CD,2,1) AS FBC2,\n",
    "SUBSTR(TRNSATL_FARE_BASE_CD,7,1) AS FBC7,\n",
    "SUBSTR(TRNSATL_FARE_BASE_CD,8,1) AS FBC8,\n",
    "CASE WHEN SUBSTRING(TRIM(TRNSATL_FARE_BASE_CD),7,2) IN (\n",
    "  'Z1', 'Z3', 'Z6','BV','B4','B5') THEN 1 ELSE 0 END AS BASIC_ECONOMY_IND,\n",
    "COALESCE(YM_HUB_NM, 'OTHER') AS YM_HUB_NM,\n",
    "COALESCE(YM_SPOKE_NM, 'OTHER') AS YM_SPOKE_NM,\n",
    "--COUNT(*) AS TKT_CNT\n",
    "SUM(OD_PAX_QTY) AS ONE_WAY_PAX_QTY,\n",
    "SUM(OD_NET_YQ_REV_USD_AMT) AS ONE_WAY_REV\n",
    "\n",
    "FROM PROD_JBA_VW.JBA_FLOWN_OD_DETAIL A\n",
    "\n",
    "LEFT JOIN (\n",
    "SELECT\n",
    "DISTINCT\n",
    "LEG_DIRECTN_AIRPRT_IATA_CD,\n",
    "YM_HUB_NM,\n",
    "YM_SPOKE_NM\n",
    "FROM PROD_RM_BUSINES_VW.MIRS_TRUE_OD_FLOW_DETL\n",
    "WHERE TICKET_RPT_DT BETWEEN '2022/10/01' AND '2023/09/30'\n",
    "AND OD_TICKET_RPT_DT BETWEEN '2022/10/01' AND '2023/09/30'\n",
    "AND YM_HUB_NM IS NOT NULL\n",
    "AND YM_SPOKE_NM IS NOT NULL\n",
    ") SPOKE\n",
    "ON A.OD_AIRPRT_PAIR_CD = SPOKE.LEG_DIRECTN_AIRPRT_IATA_CD\n",
    "WHERE \n",
    "1=1\n",
    "AND POA_PNR_CNTRY_CD IN ('US','CA','PR','VI','MX')\n",
    "AND TICKET_POS_REGION_CD = 'NA'\n",
    "AND TRNSATL_MKT_AIRLN_IATA_CD= 'AA'\n",
    "AND TRNSATL_OPERAT_AIRLN_IATA_CD IN ('AA', 'BA','IB','AY')\n",
    "AND TRNSATL_NET_REV_USD_AMT > 0\n",
    "AND LENGTH(TRNSATL_FARE_BASE_CD) = 8\n",
    "AND OD_DEP_DT BETWEEN '2022-10-01' AND '2023-09-30'\n",
    "AND PNR_CREATE_DT >= '2021-10-01'\n",
    "GROUP BY 1,2,3,4,5,6,7,8,9,10,11\n",
    "\"\"\"\n",
    ")\n",
    "YM_info.createOrReplaceTempView(\"YM_info\")"
   ]
  },
  {
   "cell_type": "code",
   "execution_count": 0,
   "metadata": {
    "application/vnd.databricks.v1+cell": {
     "cellMetadata": {
      "byteLimit": 2048000,
      "rowLimit": 10000
     },
     "inputWidgets": {},
     "nuid": "bc04703c-2e37-49eb-8f59-1685d65e7c62",
     "showTitle": false,
     "title": ""
    }
   },
   "outputs": [],
   "source": [
    "rtpq = spark.sql(\n",
    "\"\"\"\n",
    "WITH raw AS (\n",
    "SELECT\n",
    "--SNAPSHOT_DATE,\n",
    "PNR_CREATION_DATE AS PNR_CREATE_DT,\n",
    "TRIM(PNR) AS PNR_LOCTR_ID,\n",
    "--OD_ORIG,\n",
    "--OD_DEST,\n",
    "TRIM(OD_ORIG)||TRIM(OD_DEST) AS OD,\n",
    "--PER_PAX_FARE,\n",
    "--FARE_WITH_SURCHARGE,\n",
    "--TOTAL_TAX,\n",
    "PER_PAX_SALES_TOTAL,\n",
    "--PURCHASED_FARE_BRAND_CD,\n",
    "PRODUCT_BRAND_CD,\n",
    "--PRIME_CHANL_TYPE_CD,\n",
    "TERTY_CHANL_TYPE_CD\n",
    "FROM ym_hist.rtpq2_od_hist\n",
    "WHERE \n",
    "1=1\n",
    "AND SNAPSHOT_DATE = PNR_CREATION_DATE\n",
    "AND PNR_CREATION_DATE >= '2021-10-01'\n",
    "AND FLIGHT_DEP_DT BETWEEN '2022-10-01' AND '2023-09-30'\n",
    "),\n",
    "middle AS (\n",
    "  SELECT \n",
    "PNR_LOCTR_ID,\n",
    "PNR_CREATE_DT,\n",
    "OD,\n",
    "PER_PAX_SALES_TOTAL,\n",
    "PRODUCT_BRAND_CD,\n",
    "TERTY_CHANL_TYPE_CD,\n",
    "ROW_NUMBER() OVER (PARTITION BY PNR_LOCTR_ID,PNR_CREATE_DT, OD ORDER BY PER_PAX_SALES_TOTAL DESC) AS PNR_ROW\n",
    "FROM raw\n",
    ")\n",
    "SELECT\n",
    "PNR_LOCTR_ID,\n",
    "PNR_CREATE_DT,\n",
    "OD,\n",
    "PER_PAX_SALES_TOTAL,\n",
    "PRODUCT_BRAND_CD,\n",
    "TERTY_CHANL_TYPE_CD\n",
    "FROM middle\n",
    "WHERE PNR_ROW = 1\n",
    "\"\"\"\n",
    ")\n",
    "rtpq.createOrReplaceTempView(\"rtpq\")"
   ]
  },
  {
   "cell_type": "code",
   "execution_count": 0,
   "metadata": {
    "application/vnd.databricks.v1+cell": {
     "cellMetadata": {
      "byteLimit": 2048000,
      "rowLimit": 10000
     },
     "inputWidgets": {},
     "nuid": "7a8172c4-df8b-48a3-a7a4-d8cdde609b7a",
     "showTitle": false,
     "title": ""
    }
   },
   "outputs": [],
   "source": [
    "product = spark.sql(\n",
    "  \"\"\"\n",
    "SELECT\n",
    "A.PNR_LOCTR_ID,\n",
    "A.PNR_CREATE_DT,\n",
    "A.OD AS PNR_OD,\n",
    "A.PRODUCT_BRAND_CD,\n",
    "A.TERTY_CHANL_TYPE_CD,\n",
    "B.BASIC_ECONOMY_IND,\n",
    "B.YM_HUB_NM,\n",
    "B.YM_SPOKE_NM,\n",
    "B.ONE_WAY_PAX_QTY,\n",
    "B.ONE_WAY_REV\n",
    "FROM rtpq A\n",
    "JOIN YM_info B\n",
    "ON  A.PNR_LOCTR_ID = B.PNR_LOCTR_ID AND A.PNR_CREATE_DT = B.PNR_CREATE_DT\n",
    "\n",
    "  \"\"\"\n",
    ")\n",
    "product.createOrReplaceTempView(\"product\")"
   ]
  },
  {
   "cell_type": "code",
   "execution_count": 0,
   "metadata": {
    "application/vnd.databricks.v1+cell": {
     "cellMetadata": {
      "byteLimit": 2048000,
      "rowLimit": 10000
     },
     "inputWidgets": {},
     "nuid": "9cbff27a-65f4-47ee-b9e2-d272f086da21",
     "showTitle": false,
     "title": ""
    }
   },
   "outputs": [],
   "source": [
    "product=product.toPandas()"
   ]
  },
  {
   "cell_type": "code",
   "execution_count": 0,
   "metadata": {
    "application/vnd.databricks.v1+cell": {
     "cellMetadata": {
      "byteLimit": 2048000,
      "rowLimit": 10000
     },
     "inputWidgets": {},
     "nuid": "b3338cc3-e721-4656-be0e-b89100beec98",
     "showTitle": false,
     "title": ""
    }
   },
   "outputs": [],
   "source": [
    "type(product)\n",
    "product.columns = product.columns.str.lower()\n",
    "#product.rename(columns = {'od':'pnr_od'}, inplace = True)\n",
    "product.pnr_create_dt = product.pnr_create_dt.astype(\"datetime64[ns]\")"
   ]
  },
  {
   "cell_type": "code",
   "execution_count": 0,
   "metadata": {
    "application/vnd.databricks.v1+cell": {
     "cellMetadata": {
      "byteLimit": 2048000,
      "rowLimit": 10000
     },
     "inputWidgets": {},
     "nuid": "4e4cf1e8-b117-4709-9ee6-93601fa0298d",
     "showTitle": false,
     "title": ""
    }
   },
   "outputs": [],
   "source": [
    "features_short_joint = or_features_short.merge(product, how = 'left', on = ['pnr_loctr_id', 'pnr_create_dt','pnr_od'])"
   ]
  },
  {
   "cell_type": "code",
   "execution_count": 0,
   "metadata": {
    "application/vnd.databricks.v1+cell": {
     "cellMetadata": {
      "byteLimit": 2048000,
      "implicitDf": true,
      "rowLimit": 10000
     },
     "inputWidgets": {},
     "nuid": "6533e2bb-123c-4a35-a5fe-41884738a66a",
     "showTitle": false,
     "title": ""
    }
   },
   "outputs": [],
   "source": [
    "features_short_joint.shape"
   ]
  },
  {
   "cell_type": "code",
   "execution_count": 0,
   "metadata": {
    "application/vnd.databricks.v1+cell": {
     "cellMetadata": {
      "byteLimit": 2048000,
      "rowLimit": 10000
     },
     "inputWidgets": {},
     "nuid": "448a90a0-d9dd-4a46-9621-8ac910b630aa",
     "showTitle": false,
     "title": ""
    }
   },
   "outputs": [],
   "source": [
    "#FILL na and remove duplicated rows\n",
    "na_values = {\"product_brand_cd\": 'Other', \"terty_chanl_type_cd\": 'Other', \"ym_hub_nm\": 'Other', \"ym_spoke_nm\": 'Other','basic_economy_ind':0}\n",
    "features_short_joint = features_short_joint.fillna(value=na_values)\n",
    "features_short_joint.drop_duplicates(inplace=True)\n",
    "features_short_joint.shape\n"
   ]
  },
  {
   "cell_type": "code",
   "execution_count": 0,
   "metadata": {
    "application/vnd.databricks.v1+cell": {
     "cellMetadata": {
      "byteLimit": 2048000,
      "rowLimit": 10000
     },
     "inputWidgets": {},
     "nuid": "07c702ef-efc0-46da-a1cb-dd2d295d25f9",
     "showTitle": false,
     "title": ""
    }
   },
   "outputs": [],
   "source": [
    "features_short_joint.pnr_max_cabin_cd.value_counts()\n",
    "features_short_joint.basic_economy_ind.value_counts()\n",
    "#features_short_joint.product_brand_cd.value_counts()"
   ]
  },
  {
   "cell_type": "code",
   "execution_count": 0,
   "metadata": {
    "application/vnd.databricks.v1+cell": {
     "cellMetadata": {
      "byteLimit": 2048000,
      "rowLimit": 10000
     },
     "inputWidgets": {},
     "nuid": "e0bd2177-e34b-4725-9d8c-de528aa5cf2a",
     "showTitle": false,
     "title": ""
    }
   },
   "outputs": [],
   "source": [
    "features_short_joint.head()"
   ]
  },
  {
   "cell_type": "code",
   "execution_count": 0,
   "metadata": {
    "application/vnd.databricks.v1+cell": {
     "cellMetadata": {
      "byteLimit": 2048000,
      "rowLimit": 10000
     },
     "inputWidgets": {},
     "nuid": "9a35b3c1-f2b0-461e-9b06-c00d48e62c23",
     "showTitle": false,
     "title": ""
    }
   },
   "outputs": [],
   "source": [
    "#save features_short_joint to csv\n",
    "fileshare.to_csv(features_short_joint, \"ra/projects/RA_Trip_Intent_Model/ta_features_short_joint.csv\", index=False)"
   ]
  },
  {
   "cell_type": "code",
   "execution_count": 0,
   "metadata": {
    "application/vnd.databricks.v1+cell": {
     "cellMetadata": {},
     "inputWidgets": {},
     "nuid": "889f5c8d-7b3d-4019-8d54-4cbd6d830f98",
     "showTitle": false,
     "title": ""
    }
   },
   "outputs": [],
   "source": []
  },
  {
   "cell_type": "code",
   "execution_count": 0,
   "metadata": {
    "application/vnd.databricks.v1+cell": {
     "cellMetadata": {},
     "inputWidgets": {},
     "nuid": "0f16816f-c93c-4bbf-862f-fb7f583ef6ef",
     "showTitle": false,
     "title": ""
    }
   },
   "outputs": [],
   "source": []
  },
  {
   "cell_type": "markdown",
   "metadata": {
    "application/vnd.databricks.v1+cell": {
     "cellMetadata": {},
     "inputWidgets": {},
     "nuid": "f077af54-c6c2-4cc3-85a5-7fddb80ed765",
     "showTitle": false,
     "title": ""
    }
   },
   "source": [
    "#Build 3 Category Model"
   ]
  },
  {
   "cell_type": "code",
   "execution_count": 0,
   "metadata": {
    "application/vnd.databricks.v1+cell": {
     "cellMetadata": {},
     "inputWidgets": {},
     "nuid": "9b00a56e-e2ad-4cb3-9bdc-73bbc776c442",
     "showTitle": false,
     "title": ""
    }
   },
   "outputs": [],
   "source": [
    "#read features data and show all column names in features_short_joint\n",
    "model_raw_data_path = rm_fileshare().path(directory_name=\"ra/users/866810/trip_intent_model\", file_name=\"features_short_joint.csv\")\n",
    "model_raw_data = pd.read_csv(model_raw_data_path)\n",
    "\n",
    "na_values = {\"product_brand_cd\": 'Other', \"terty_chanl_type_cd\": 'Other', \"ym_hub_nm\": 'Other', \"ym_spoke_nm\": 'Other','basic_economy_ind':0}\n",
    "model_raw_data = model_raw_data.fillna(value=na_values)\n",
    "model_raw_data.drop_duplicates(inplace=True)\n",
    "print(model_raw_data.shape)\n",
    "print(model_raw_data.columns)"
   ]
  },
  {
   "cell_type": "code",
   "execution_count": 0,
   "metadata": {
    "application/vnd.databricks.v1+cell": {
     "cellMetadata": {},
     "inputWidgets": {},
     "nuid": "a1401641-eb06-4c14-b2a9-75164aef1a5d",
     "showTitle": false,
     "title": ""
    }
   },
   "outputs": [],
   "source": [
    "model_data = model_raw_data[[\n",
    "  # feature data, numeric, ordinal categorical or indicator\n",
    "'connecting_ind',\n",
    "'not_using_closest_airprt',\n",
    "'dep_return_airprt_different_ind',\n",
    "    #'pnr_premium_cabin_ind',\n",
    "    #'pnr_max_lylty_level_num',\n",
    "'pnr_single_pax_count_indicator',\n",
    "'ap',\n",
    "'tkt_min_stay',\n",
    "'basic_economy_ind',\n",
    "  # feature data, categorical data, need to be converted\n",
    "'round_trip_type',\n",
    "'trip_type',\n",
    "'prime_chanl_type_cd',\n",
    "'dep_dow_modified',\n",
    "'return_dow_modified',\n",
    "'mkt_group',\n",
    "'tkt_min_stay_category',\n",
    "'tkt_ap_category',\n",
    "#'product_brand_cd',\n",
    "'ym_hub_nm',\n",
    "'ym_spoke_nm',\n",
    "'flt_dep_quarter',\n",
    "    #'terty_chanl_type_cd'\n",
    "'pnr_max_cabin_cd',\n",
    "  # label data\n",
    "'trip_subpurpose',\n",
    "'css_trip_purpose',\n",
    "'trip_subpurpose_3c',\n",
    "'trip_subpurpose_2c'\n",
    "\n",
    "\n",
    "]]"
   ]
  },
  {
   "cell_type": "code",
   "execution_count": 0,
   "metadata": {
    "application/vnd.databricks.v1+cell": {
     "cellMetadata": {},
     "collapsed": true,
     "inputWidgets": {},
     "nuid": "b36cad3e-1d82-4cf4-9881-845373e9615a",
     "showTitle": false,
     "title": ""
    }
   },
   "outputs": [],
   "source": [
    "#generate trip intent predicted label to compare against with CSS GT label and calculate the new OR trip intent model accuracy performance\n",
    "trip_intent = mos.read_sql(\n",
    "  \"\"\"\n",
    "  SELECT\n",
    "  top 10000000\n",
    "  trim(PNR_LOCTR_ID) as PNR_LOCTR_ID,\n",
    "  TRIM(PNR_CREATE_DT) AS PNR_CREATE_DT,\n",
    "  PNR_CREATE_TM,\n",
    "  CASE Greatest(Coalesce(FLOWN_BUSINES_ONLY_PROB_PCT, BKG_BUSINES_ONLY_PROB_PCT),\n",
    "    Coalesce(FLOWN_BLEISURE_PROB_PCT, BKG_BLEISURE_PROB_PCT),\n",
    "    Coalesce(FLOWN_VFR_PROB_PCT, BKG_VFR_PROB_PCT),\n",
    "    Coalesce(FLOWN_VACTN_ONLY_PROB_PCT, BKG_VACTN_ONLY_PROB_PCT),\n",
    "    Coalesce(FLOWN_PERSNL_OTHR_PROB_PCT, BKG_PERSNL_OTHR_PROB_PCT))\n",
    "  WHEN Coalesce(FLOWN_BUSINES_ONLY_PROB_PCT, BKG_BUSINES_ONLY_PROB_PCT) THEN 'BUSINESS_ONLY'\n",
    "  WHEN Coalesce(FLOWN_BLEISURE_PROB_PCT, BKG_BLEISURE_PROB_PCT) THEN 'BLEISURE'\n",
    "  WHEN Coalesce(FLOWN_VFR_PROB_PCT, BKG_VFR_PROB_PCT) THEN 'VFR'\n",
    "  WHEN Coalesce(FLOWN_VACTN_ONLY_PROB_PCT, BKG_VACTN_ONLY_PROB_PCT) THEN 'VACATION_ONLY'\n",
    "  WHEN Coalesce(FLOWN_PERSNL_OTHR_PROB_PCT, BKG_PERSNL_OTHR_PROB_PCT) THEN 'PERSONAL_OTHER'\n",
    "  END AS TRIP_INTENT_LABEL,\n",
    "  Coalesce(FLOWN_BUSINES_ONLY_PROB_PCT, BKG_BUSINES_ONLY_PROB_PCT) AS BUSINES_ONLY_PROB_PCT,\n",
    "  Coalesce(FLOWN_BLEISURE_PROB_PCT, BKG_BLEISURE_PROB_PCT) AS BLEISURE_PROB_PCT,\n",
    "  Coalesce(FLOWN_VFR_PROB_PCT, BKG_VFR_PROB_PCT) AS VFR_PROB_PCT,\n",
    "  Coalesce(FLOWN_VACTN_ONLY_PROB_PCT, BKG_VACTN_ONLY_PROB_PCT) AS VACTN_ONLY_PROB_PCT,\n",
    "  Coalesce(FLOWN_PERSNL_OTHR_PROB_PCT, BKG_PERSNL_OTHR_PROB_PCT) AS PERSNL_OTHR_PROB_PCT\n",
    "  FROM PROD_PNR_BOOKING_VWS.PNR_TRIP_INTENT\n",
    "  WHERE PRELIM_SCORE_IND = 'N'\n",
    "  AND PNR_CREATE_DT between '2021/02/23' and '2023/08/31'\n",
    "  \"\"\"\n",
    ")\n",
    "trip_intent.createOrReplaceTempView(\"trip_intent\")"
   ]
  },
  {
   "cell_type": "code",
   "execution_count": 0,
   "metadata": {
    "application/vnd.databricks.v1+cell": {
     "cellMetadata": {},
     "inputWidgets": {},
     "nuid": "ff3e6faa-5521-49a6-adfe-77d107afa01b",
     "showTitle": false,
     "title": ""
    }
   },
   "outputs": [],
   "source": [
    "trip_intent = trip_intent.toPandas()"
   ]
  },
  {
   "cell_type": "code",
   "execution_count": 0,
   "metadata": {
    "application/vnd.databricks.v1+cell": {
     "cellMetadata": {},
     "inputWidgets": {},
     "nuid": "572d11ca-1ac9-40ca-84a5-69f15801c927",
     "showTitle": false,
     "title": ""
    }
   },
   "outputs": [],
   "source": [
    "trip_intent.columns = trip_intent.columns.str.lower()"
   ]
  },
  {
   "cell_type": "markdown",
   "metadata": {
    "application/vnd.databricks.v1+cell": {
     "cellMetadata": {},
     "inputWidgets": {},
     "nuid": "68211daf-cce6-4f8b-9d08-98b4a6e9cf33",
     "showTitle": false,
     "title": ""
    }
   },
   "source": [
    "##estimate OR model accuracy"
   ]
  },
  {
   "cell_type": "code",
   "execution_count": 0,
   "metadata": {
    "application/vnd.databricks.v1+cell": {
     "cellMetadata": {},
     "inputWidgets": {},
     "nuid": "770ea3e1-b65a-49e4-a596-c45d298d0a92",
     "showTitle": false,
     "title": ""
    }
   },
   "outputs": [],
   "source": [
    "test_accuracy = model_raw_data.merge(trip_intent, how = 'left', on = ['pnr_loctr_id', 'pnr_create_dt'])"
   ]
  },
  {
   "cell_type": "code",
   "execution_count": 0,
   "metadata": {
    "application/vnd.databricks.v1+cell": {
     "cellMetadata": {},
     "inputWidgets": {},
     "nuid": "fc04e3e5-8251-4d85-936a-55e7b98e2bac",
     "showTitle": false,
     "title": ""
    }
   },
   "outputs": [],
   "source": [
    "test_accuracy=test_accuracy[test_accuracy['trip_subpurpose'].isin(['VFR','BUSINESS_ONLY','VACATION_ONLY'])].copy() "
   ]
  },
  {
   "cell_type": "code",
   "execution_count": 0,
   "metadata": {
    "application/vnd.databricks.v1+cell": {
     "cellMetadata": {},
     "inputWidgets": {},
     "nuid": "5737db74-868a-448b-bad8-ec76493e0bb8",
     "showTitle": false,
     "title": ""
    }
   },
   "outputs": [],
   "source": [
    "#estimate the prediction accuracy of current OR 5-category trip intent model ~82.54%\n",
    "#100* test_accuracy.shape[1] / test_accuracy[test_accuracy.trip_subpurpose == test_accuracy.trip_intent_label].shape[1]\n",
    "100*test_accuracy[test_accuracy.trip_subpurpose == test_accuracy.trip_intent_label].shape[0]/test_accuracy[~pd.isna(test_accuracy.trip_intent_label)].shape[0]"
   ]
  },
  {
   "cell_type": "code",
   "execution_count": 0,
   "metadata": {
    "application/vnd.databricks.v1+cell": {
     "cellMetadata": {},
     "inputWidgets": {},
     "nuid": "25d46616-8f6b-4b8e-8d99-fdc1ffc3a5eb",
     "showTitle": false,
     "title": ""
    }
   },
   "outputs": [],
   "source": [
    "100*test_accuracy[(test_accuracy.trip_subpurpose == test_accuracy.trip_intent_label) & (test_accuracy.trip_intent_label =='VFR') &(test_accuracy.trip_subpurpose =='VFR')].shape[0]/test_accuracy[(~pd.isna(test_accuracy.trip_intent_label)) & (test_accuracy.trip_intent_label =='VFR')].shape[0]"
   ]
  },
  {
   "cell_type": "markdown",
   "metadata": {
    "application/vnd.databricks.v1+cell": {
     "cellMetadata": {},
     "inputWidgets": {},
     "nuid": "3d7bcb53-c9ae-4ba3-9ce9-0ac308c6317b",
     "showTitle": false,
     "title": ""
    }
   },
   "source": [
    "## build a single tree model"
   ]
  },
  {
   "cell_type": "code",
   "execution_count": 0,
   "metadata": {
    "application/vnd.databricks.v1+cell": {
     "cellMetadata": {},
     "inputWidgets": {},
     "nuid": "aa198dd3-b2d7-4012-8f04-bc743e24a7af",
     "showTitle": false,
     "title": ""
    }
   },
   "outputs": [],
   "source": [
    "#convert category variables into dummies for model training\n",
    "\n",
    "\n",
    "model_data_one_hot = pd.get_dummies(model_data, columns = [\n",
    "'round_trip_type',\n",
    "'trip_type',\n",
    "'prime_chanl_type_cd',\n",
    "'dep_dow_modified',\n",
    "'return_dow_modified',\n",
    "'mkt_group',\n",
    "'tkt_min_stay_category',\n",
    "'tkt_ap_category',\n",
    "'pnr_max_cabin_cd',\n",
    "'ym_hub_nm',\n",
    "'ym_spoke_nm',\n",
    "'flt_dep_quarter'\n",
    "  ])\n",
    "#print(model_data_one_hot)\n",
    "print(model_data_one_hot.columns.tolist())\n",
    "model_data_one_hot = model_data_one_hot.dropna()\n",
    "model_data_one_hot.shape"
   ]
  },
  {
   "cell_type": "code",
   "execution_count": 0,
   "metadata": {
    "application/vnd.databricks.v1+cell": {
     "cellMetadata": {},
     "inputWidgets": {},
     "nuid": "2b2f2be5-550b-4761-9ac0-74995d9f3128",
     "showTitle": false,
     "title": ""
    }
   },
   "outputs": [],
   "source": [
    "model_data_one_hot=model_data_one_hot[model_data_one_hot['trip_subpurpose'].isin(['VFR','BUSINESS_ONLY','VACATION_ONLY'])].copy()"
   ]
  },
  {
   "cell_type": "code",
   "execution_count": 0,
   "metadata": {
    "application/vnd.databricks.v1+cell": {
     "cellMetadata": {},
     "inputWidgets": {},
     "nuid": "8b920ff2-e1be-4304-a1ae-7379bc9260be",
     "showTitle": false,
     "title": ""
    }
   },
   "outputs": [],
   "source": [
    "\n",
    "le = preprocessing.LabelEncoder()\n",
    "\n",
    "\n",
    "model_data_one_hot['trip_subpurpose'] = le.fit_transform(model_data_one_hot.trip_subpurpose)\n",
    "\n",
    "print(le.classes_)\n",
    "\n",
    "\n",
    "\n",
    "#model_data_one_hot['trip_subpurpose'] = preprocessing.LabelEncoder().fit_transform(model_data_one_hot['trip_subpurpose'])"
   ]
  },
  {
   "cell_type": "code",
   "execution_count": 0,
   "metadata": {
    "application/vnd.databricks.v1+cell": {
     "cellMetadata": {},
     "inputWidgets": {},
     "nuid": "f5388234-a701-4764-94de-73c4c3d9d4f3",
     "showTitle": false,
     "title": ""
    }
   },
   "outputs": [],
   "source": [
    "model_data_one_hot.trip_subpurpose.value_counts()"
   ]
  },
  {
   "cell_type": "code",
   "execution_count": 0,
   "metadata": {
    "application/vnd.databricks.v1+cell": {
     "cellMetadata": {},
     "inputWidgets": {},
     "nuid": "b6fcaa89-0c6c-459d-9440-0da660ad7e0b",
     "showTitle": false,
     "title": ""
    }
   },
   "outputs": [],
   "source": [
    "#split training and testing data\n",
    "X = model_data_one_hot.drop(columns = ['trip_subpurpose_3c','css_trip_purpose','trip_subpurpose_2c','trip_subpurpose'])\n",
    "y = model_data_one_hot['trip_subpurpose']\n",
    "# dividing X, y into train and test data\n",
    "X_train, X_test, y_train, y_test = train_test_split(X, y, random_state = 0)"
   ]
  },
  {
   "cell_type": "code",
   "execution_count": 0,
   "metadata": {
    "application/vnd.databricks.v1+cell": {
     "cellMetadata": {},
     "inputWidgets": {},
     "nuid": "328d44cf-203a-4fdd-969b-4dd00117d506",
     "showTitle": false,
     "title": ""
    }
   },
   "outputs": [],
   "source": [
    "\n",
    "ros = RandomOverSampler(random_state=0)\n",
    "#X_resampled, y_resampled = ros.fit_resample(X_train, y_train)\n",
    "X_resampled, y_resampled = SMOTE().fit_resample(X_train, y_train)"
   ]
  },
  {
   "cell_type": "code",
   "execution_count": 0,
   "metadata": {
    "application/vnd.databricks.v1+cell": {
     "cellMetadata": {},
     "inputWidgets": {},
     "nuid": "881fc198-fbe3-4e55-9164-5dbf020a3ecf",
     "showTitle": false,
     "title": ""
    }
   },
   "outputs": [],
   "source": [
    "#X_resampled.shape\n",
    "y_resampled.value_counts()\n",
    "#X_test.shape"
   ]
  },
  {
   "cell_type": "code",
   "execution_count": 0,
   "metadata": {
    "application/vnd.databricks.v1+cell": {
     "cellMetadata": {},
     "inputWidgets": {},
     "nuid": "7df9182e-7349-4d33-a0e4-65dfc17720f8",
     "showTitle": false,
     "title": ""
    }
   },
   "outputs": [],
   "source": [
    "single_tree_model4 = DecisionTreeClassifier(max_depth = 20).fit(X_resampled, y_resampled)\n",
    "single_tree_predictions4 = single_tree_model4.predict(X_test)\n",
    "single_tree_pred_prob4 = single_tree_model4.predict_proba(X_test)\n",
    "# creating a confusion matrix\n",
    "cm4 = confusion_matrix(y_test, single_tree_predictions4)"
   ]
  },
  {
   "cell_type": "code",
   "execution_count": 0,
   "metadata": {
    "application/vnd.databricks.v1+cell": {
     "cellMetadata": {},
     "inputWidgets": {},
     "nuid": "1a32dd4e-e0d4-4c73-bc3e-18ea42ddabe7",
     "showTitle": false,
     "title": ""
    }
   },
   "outputs": [],
   "source": [
    "#plot the confusion matrix\n",
    "disp = ConfusionMatrixDisplay(confusion_matrix=cm4,display_labels=single_tree_model4.classes_)\n",
    "disp.plot()"
   ]
  },
  {
   "cell_type": "code",
   "execution_count": 0,
   "metadata": {
    "application/vnd.databricks.v1+cell": {
     "cellMetadata": {},
     "inputWidgets": {},
     "nuid": "81ab8800-38fe-430d-a5ea-146664aee7a0",
     "showTitle": false,
     "title": ""
    }
   },
   "outputs": [],
   "source": [
    "#accuracy calculation\n",
    "feature_name4 = X.columns\n",
    "class_name4 =single_tree_model4.classes_\n",
    "#accuracy_score(y_test, single_tree_predictions)\n",
    "predict_prob4 = (np.sum(single_tree_pred_prob4, axis= 0)/len(y_test))\n",
    "predict_prob4 = pd.DataFrame((predict_prob4), index = single_tree_model4.classes_)\n",
    "true_prob4 = pd.DataFrame(y_test.value_counts()/len(y_test))\n",
    "result4 = pd.concat([predict_prob4, true_prob4], axis=1).reindex(predict_prob4.index)\n",
    "result4.columns = ['Predicted Prob', 'True Prob']\n",
    "result4['Absolute Bias'] =abs( (result4['Predicted Prob'] - result4['True Prob'] )/result4['True Prob'])\n",
    "single_tree_fitting_predictions4 = single_tree_model4.predict(X_resampled)\n",
    "print('label based TRAINING accuracy',accuracy_score(y_resampled, single_tree_fitting_predictions4) )\n",
    "print('label based PREDICTING accuracy is', accuracy_score(y_test, single_tree_predictions4))\n",
    "print('Aggregated Probability based PREDICTING accuracy is\\n', result4)"
   ]
  },
  {
   "cell_type": "code",
   "execution_count": 0,
   "metadata": {
    "application/vnd.databricks.v1+cell": {
     "cellMetadata": {},
     "inputWidgets": {},
     "nuid": "ac287adb-4df0-4f9d-85a0-af93f62f4789",
     "showTitle": false,
     "title": ""
    }
   },
   "outputs": [],
   "source": [
    "precision, recall, fscore, support = precision_recall_fscore_support(y_test, single_tree_predictions4)\n",
    "print('precision: {}'.format(precision))\n",
    "print('recall: {}'.format(recall))"
   ]
  },
  {
   "cell_type": "code",
   "execution_count": 0,
   "metadata": {
    "application/vnd.databricks.v1+cell": {
     "cellMetadata": {},
     "inputWidgets": {},
     "nuid": "1f2996e8-c2ac-4df6-9548-205f5fea134d",
     "showTitle": false,
     "title": ""
    }
   },
   "outputs": [],
   "source": [
    "#plot the tree\n",
    "feature_name = X.columns\n",
    "class_name =single_tree_model4.classes_\n",
    "fig = plt.figure(figsize=(35,35))\n",
    "_ = tree.plot_tree(single_tree_model4, \n",
    "                   feature_names=feature_name,  \n",
    "                   class_names=class_name,\n",
    "                   filled=True,\n",
    "                   fontsize = 15)"
   ]
  },
  {
   "cell_type": "code",
   "execution_count": 0,
   "metadata": {
    "application/vnd.databricks.v1+cell": {
     "cellMetadata": {},
     "inputWidgets": {},
     "nuid": "993caebd-82a2-4234-ab9d-2571030cd010",
     "showTitle": false,
     "title": ""
    }
   },
   "outputs": [],
   "source": [
    "#plot importance ranks\n",
    "feature_importances = pd.DataFrame(single_tree_model4.feature_importances_, index=X.columns, columns=[\"Importance\"])\n",
    "feature_importances.sort_values(by='Importance', ascending=False, inplace=True)\n",
    "feature_importances[:9].plot(kind='bar', figsize=(8,6))"
   ]
  },
  {
   "cell_type": "markdown",
   "metadata": {
    "application/vnd.databricks.v1+cell": {
     "cellMetadata": {},
     "inputWidgets": {},
     "nuid": "6c1fd511-f9b7-4286-ae6e-93df481cdb4e",
     "showTitle": false,
     "title": ""
    }
   },
   "source": [
    "##build random forest"
   ]
  },
  {
   "cell_type": "code",
   "execution_count": 0,
   "metadata": {
    "application/vnd.databricks.v1+cell": {
     "cellMetadata": {},
     "inputWidgets": {},
     "nuid": "0161a112-24b3-4ec3-b8aa-2536f417b0aa",
     "showTitle": false,
     "title": ""
    }
   },
   "outputs": [],
   "source": [
    "# build RF\n",
    "#build a forest of 100 trees\n",
    "forest2 = RandomForestClassifier(n_estimators=100,random_state=0, max_depth=20)\n",
    "forest_model2 = forest2.fit(X_resampled, y_resampled)\n",
    "RF_feature_name = X.columns\n",
    "RF_class_name =forest2.classes_\n"
   ]
  },
  {
   "cell_type": "code",
   "execution_count": 0,
   "metadata": {
    "application/vnd.databricks.v1+cell": {
     "cellMetadata": {},
     "inputWidgets": {},
     "nuid": "07b4d326-f2b8-4f5c-af12-9ddb19cd48f5",
     "showTitle": false,
     "title": ""
    }
   },
   "outputs": [],
   "source": [
    "#generate predictions\n",
    "RF_predictions2 = forest_model2.predict(X_test)\n",
    "RF_pred_prob2 = forest_model2.predict_proba(X_test)\n",
    "#calculate performance\n",
    "RF_predict_prob2 = (np.sum(RF_pred_prob2, axis= 0)/len(y_test))\n",
    "RF_predict_prob_df2 = pd.DataFrame((RF_predict_prob2), index = RF_class_name)\n",
    "RF_true_prob_df2 = pd.DataFrame(y_test.value_counts()/len(y_test))\n",
    "RF_result2 = pd.concat([RF_predict_prob_df2, RF_true_prob_df2], axis=1).reindex(RF_predict_prob_df2.index)\n",
    "RF_result2.columns = ['Predicted Prob', 'True Prob']\n",
    "RF_result2['Absolute Bias'] =abs( (RF_result2['Predicted Prob'] - RF_result2['True Prob'] )/RF_result2['True Prob'])\n",
    "RF_fitting_predictions2 = forest_model2.predict(X_resampled)\n",
    "print('Label based TRAINING accuracy',accuracy_score(y_resampled, RF_fitting_predictions2) )\n",
    "print('Label based PREDICTING accuracy is', accuracy_score(y_test, RF_predictions2))\n",
    "print('Aggregated Probability based PREDICTING accuracy is\\n', RF_result2)"
   ]
  },
  {
   "cell_type": "code",
   "execution_count": 0,
   "metadata": {
    "application/vnd.databricks.v1+cell": {
     "cellMetadata": {},
     "inputWidgets": {},
     "nuid": "f3cbb020-d83f-4aa3-92d9-c44d1e297371",
     "showTitle": false,
     "title": ""
    }
   },
   "outputs": [],
   "source": [
    "precision, recall, fscore, support = precision_recall_fscore_support(y_test, RF_predictions2)\n",
    "print('precision: {}'.format(precision))\n",
    "print('recall: {}'.format(recall))"
   ]
  },
  {
   "cell_type": "code",
   "execution_count": 0,
   "metadata": {
    "application/vnd.databricks.v1+cell": {
     "cellMetadata": {},
     "inputWidgets": {},
     "nuid": "c8782a96-50b3-434b-b390-b4895f8a446f",
     "showTitle": false,
     "title": ""
    }
   },
   "outputs": [],
   "source": [
    "cm5 = confusion_matrix(y_test, RF_predictions2)\n",
    "disp = ConfusionMatrixDisplay(confusion_matrix=cm5,display_labels=forest_model2.classes_)\n",
    "disp.plot()"
   ]
  },
  {
   "cell_type": "code",
   "execution_count": 0,
   "metadata": {
    "application/vnd.databricks.v1+cell": {
     "cellMetadata": {},
     "inputWidgets": {},
     "nuid": "47366c90-4685-46d9-86aa-3490e65673ca",
     "showTitle": false,
     "title": ""
    }
   },
   "outputs": [],
   "source": [
    "#generate feature importance from RF\n",
    "feature_importances = pd.DataFrame(forest_model2.feature_importances_, index=X.columns, columns=[\"Importance\"])\n",
    "feature_importances.sort_values(by='Importance', ascending=False, inplace=True)\n",
    "feature_importances[:19].plot(kind='bar', figsize=(8,6))"
   ]
  },
  {
   "cell_type": "markdown",
   "metadata": {
    "application/vnd.databricks.v1+cell": {
     "cellMetadata": {},
     "inputWidgets": {},
     "nuid": "f174d403-7da0-4292-8cbf-091fedebbd30",
     "showTitle": false,
     "title": ""
    }
   },
   "source": [
    "#Modeling with 5/7 features and Forecasting AA, AJB PNRs "
   ]
  },
  {
   "cell_type": "markdown",
   "metadata": {
    "application/vnd.databricks.v1+cell": {
     "cellMetadata": {},
     "inputWidgets": {},
     "nuid": "0bf0ed21-ae4f-4c0d-af7b-08e915d94ed2",
     "showTitle": true,
     "title": ""
    }
   },
   "source": [
    "##RF with only top 5 features -AP, Min Stay, PNR PAX Cnt, Cabin, Channel. "
   ]
  },
  {
   "cell_type": "markdown",
   "metadata": {
    "application/vnd.databricks.v1+cell": {
     "cellMetadata": {},
     "inputWidgets": {},
     "nuid": "45bb7580-dabf-452e-901c-658afda38695",
     "showTitle": false,
     "title": ""
    }
   },
   "source": [
    "####Seasonality and Entity/MKT Group do not contribute hugely to accuracy improvement (~1%ish). Still keep numeric AP and Min Stay for future investigation of optimal cutoff points to help new pricing structure."
   ]
  },
  {
   "cell_type": "code",
   "execution_count": 0,
   "metadata": {
    "application/vnd.databricks.v1+cell": {
     "cellMetadata": {
      "byteLimit": 2048000,
      "rowLimit": 10000
     },
     "inputWidgets": {},
     "nuid": "a523d331-f902-4f13-a699-dd76593217fc",
     "showTitle": false,
     "title": ""
    }
   },
   "outputs": [],
   "source": [
    "#Previous model shows the prediction results are not very accurate for OW PNRs, Non Sun and Sun PNRs. After building models with only top features, the improvement on these segments are minimum. The trick here is to use some high confidence prediction data on these segments from OR predictions as extra training data for our RA Model to force to learn more about these segments. The results show great improvements on accuracy and probability bias."
   ]
  },
  {
   "cell_type": "code",
   "execution_count": 0,
   "metadata": {
    "application/vnd.databricks.v1+cell": {
     "cellMetadata": {},
     "inputWidgets": {},
     "nuid": "be4eb18a-d22f-49cc-bb86-82236d9fc6dd",
     "showTitle": false,
     "title": ""
    }
   },
   "outputs": [],
   "source": [
    "#Need to run Cmd 1~6 to import necessary packages before running this. Data Reading and 3 Category Model building can be skipped."
   ]
  },
  {
   "cell_type": "code",
   "execution_count": 0,
   "metadata": {
    "application/vnd.databricks.v1+cell": {
     "cellMetadata": {
      "byteLimit": 2048000,
      "rowLimit": 10000
     },
     "inputWidgets": {},
     "nuid": "8f40c6be-7494-4e38-9275-379f8305865d",
     "showTitle": false,
     "title": ""
    }
   },
   "outputs": [],
   "source": [
    "#read features data and show all column names in features_short_joint\n",
    "model_raw_data_path = fileshare.path(directory_name=\"ra/projects/RA_Trip_Intent_Model\", file_name=\"ta_features_short_joint.csv\")\n",
    "model_raw_data = pd.read_csv(model_raw_data_path)\n",
    "\n",
    "na_values = {\"product_brand_cd\": 'Other', \"terty_chanl_type_cd\": 'Other', \"ym_hub_nm\": 'Other', \"ym_spoke_nm\": 'Other','basic_economy_ind':0}\n",
    "model_raw_data = model_raw_data.fillna(value=na_values)\n",
    "model_raw_data.drop_duplicates(inplace=True)\n",
    "print(model_raw_data.shape)\n",
    "print(model_raw_data.columns)"
   ]
  },
  {
   "cell_type": "code",
   "execution_count": 0,
   "metadata": {
    "application/vnd.databricks.v1+cell": {
     "cellMetadata": {
      "byteLimit": 2048000,
      "rowLimit": 10000
     },
     "inputWidgets": {},
     "nuid": "313ad249-ed75-4019-893d-a2f587e947a1",
     "showTitle": false,
     "title": ""
    }
   },
   "outputs": [],
   "source": [
    "model_raw_data.mkt_group.value_counts()"
   ]
  },
  {
   "cell_type": "code",
   "execution_count": 0,
   "metadata": {
    "application/vnd.databricks.v1+cell": {
     "cellMetadata": {
      "byteLimit": 2048000,
      "rowLimit": 10000
     },
     "inputWidgets": {},
     "nuid": "8bc73d32-1fb6-4b8c-986a-1447f4edda6a",
     "showTitle": false,
     "title": ""
    }
   },
   "outputs": [],
   "source": [
    "model_raw_data.flt_dep_quarter.value_counts()"
   ]
  },
  {
   "cell_type": "code",
   "execution_count": 0,
   "metadata": {
    "application/vnd.databricks.v1+cell": {
     "cellMetadata": {
      "byteLimit": 2048000,
      "rowLimit": 10000
     },
     "inputWidgets": {},
     "nuid": "11ad6b4d-abd1-45c5-9d55-58647075ddf9",
     "showTitle": false,
     "title": ""
    }
   },
   "outputs": [],
   "source": [
    "model_data = model_raw_data[[\n",
    " 'pnr_loctr_id', 'pnr_create_dt', \n",
    "'pnr_single_pax_count_indicator',\n",
    "'ap',\n",
    "'tkt_min_stay',\n",
    "'prime_chanl_type_cd',\n",
    "'tkt_min_stay_category',\n",
    "'tkt_ap_category',\n",
    "'pnr_max_cabin_cd',\n",
    "#'flt_dep_quarter',\n",
    "#'mkt_group',\n",
    "  # label data\n",
    "'trip_subpurpose',\n",
    "\n",
    "'group_size'\n",
    "\n",
    "\n",
    "\n",
    "]]"
   ]
  },
  {
   "cell_type": "code",
   "execution_count": 0,
   "metadata": {
    "application/vnd.databricks.v1+cell": {
     "cellMetadata": {
      "byteLimit": 2048000,
      "rowLimit": 10000
     },
     "inputWidgets": {},
     "nuid": "cd283a4b-c6c8-428d-a6b2-81457e74849f",
     "showTitle": false,
     "title": ""
    }
   },
   "outputs": [],
   "source": [
    "#a_aa = fileshare.path(directory_name=\"ra/users/866810/trip_intent_model\", file_name=\"ta_aa_pnr_v3.txt\")\n",
    "ta_aa = fileshare.path(directory_name=\"ra/projects/RA_Trip_Intent_Model\", file_name=\"ta_aa_pnr_v4_add_mkt.txt\")\n",
    "ta_aa_data = pd.read_csv(ta_aa, sep='\t')\n",
    "ta_aa_data.columns = ta_aa_data.columns.str.lower()\n",
    "ta_aa_data = ta_aa_data.dropna()"
   ]
  },
  {
   "cell_type": "code",
   "execution_count": 0,
   "metadata": {
    "application/vnd.databricks.v1+cell": {
     "cellMetadata": {
      "byteLimit": 2048000,
      "rowLimit": 10000
     },
     "inputWidgets": {},
     "nuid": "c3bb61a5-c7b6-4e80-bd55-0b9a72d0fbea",
     "showTitle": false,
     "title": ""
    }
   },
   "outputs": [],
   "source": [
    "ta_aa_data.head(10)"
   ]
  },
  {
   "cell_type": "code",
   "execution_count": 0,
   "metadata": {
    "application/vnd.databricks.v1+cell": {
     "cellMetadata": {
      "byteLimit": 2048000,
      "rowLimit": 10000
     },
     "inputWidgets": {},
     "nuid": "0a00a730-8d43-4b8f-a0fc-aca4fb03e6d8",
     "showTitle": false,
     "title": ""
    }
   },
   "outputs": [],
   "source": [
    "ta_aa_data_train = ta_aa_data.loc[(ta_aa_data.tkt_min_stay_category =='One Way') & ((ta_aa_data.or_vactn_only_prob_pct > 0.9) | (ta_aa_data.or_busines_only_prob_pct > 0.9)|(ta_aa_data.or_vfr_prob_pct > 0.9))]"
   ]
  },
  {
   "cell_type": "code",
   "execution_count": 0,
   "metadata": {
    "application/vnd.databricks.v1+cell": {
     "cellMetadata": {
      "byteLimit": 2048000,
      "rowLimit": 10000
     },
     "inputWidgets": {},
     "nuid": "fba2cf00-ecf3-4ed5-8666-5d9405faa31c",
     "showTitle": false,
     "title": ""
    }
   },
   "outputs": [],
   "source": [
    "ta_aa_data_train_test=ta_aa_data_train[[\n",
    " 'pnr_loctr_id', 'pnr_create_dt', \n",
    "'pnr_single_pax_count_indicator',\n",
    "'ap',\n",
    "'tkt_min_stay',\n",
    "'prime_chanl_type_cd',\n",
    "'tkt_min_stay_category',\n",
    "'tkt_ap_category',\n",
    "'pnr_max_cabin_cd',\n",
    "'or_label',\n",
    "'one_way_pax_qty',\n",
    "#'flt_dep_quarter',\n",
    "#'mkt_group'\n",
    "]]"
   ]
  },
  {
   "cell_type": "code",
   "execution_count": 0,
   "metadata": {
    "application/vnd.databricks.v1+cell": {
     "cellMetadata": {
      "byteLimit": 2048000,
      "rowLimit": 10000
     },
     "inputWidgets": {},
     "nuid": "c138b0be-e580-49a4-86ab-75238851cf46",
     "showTitle": false,
     "title": ""
    }
   },
   "outputs": [],
   "source": [
    "ta_aa_data_train=ta_aa_data_train_test.rename(columns = {\"or_label\":\"trip_subpurpose\",\"one_way_pax_qty\":\"group_size\"}).copy()"
   ]
  },
  {
   "cell_type": "code",
   "execution_count": 0,
   "metadata": {
    "application/vnd.databricks.v1+cell": {
     "cellMetadata": {
      "byteLimit": 2048000,
      "rowLimit": 10000
     },
     "inputWidgets": {},
     "nuid": "c024532d-4c66-4c72-8bc9-f2b4c5fa384a",
     "showTitle": false,
     "title": ""
    }
   },
   "outputs": [],
   "source": [
    "model_data=model_data[\n",
    "  (model_data['trip_subpurpose'].isin(['VFR','BUSINESS_ONLY','VACATION_ONLY'])) \n",
    "                  #& (model_data.pnr_single_pax_count_indicator ==1)\n",
    "                    #  & (model_data['flt_dep_quarter'].isin([2,3]))\n",
    "                    # & (model_data.mkt_group == 'Core EU')\n",
    "                      ].copy()"
   ]
  },
  {
   "cell_type": "code",
   "execution_count": 0,
   "metadata": {
    "application/vnd.databricks.v1+cell": {
     "cellMetadata": {
      "byteLimit": 2048000,
      "rowLimit": 10000
     },
     "inputWidgets": {},
     "nuid": "8fb402bb-fcca-4a6a-a0ee-f33ce4c104bf",
     "showTitle": false,
     "title": ""
    }
   },
   "outputs": [],
   "source": [
    "model_data.loc[model_data.tkt_min_stay_category ==\"One Way\",\"tkt_min_stay\"]=0"
   ]
  },
  {
   "cell_type": "code",
   "execution_count": 0,
   "metadata": {
    "application/vnd.databricks.v1+cell": {
     "cellMetadata": {
      "byteLimit": 2048000,
      "rowLimit": 10000
     },
     "inputWidgets": {},
     "nuid": "9374f85a-1eae-48dd-8760-ad6d10b14418",
     "showTitle": false,
     "title": ""
    }
   },
   "outputs": [],
   "source": [
    "model_data"
   ]
  },
  {
   "cell_type": "code",
   "execution_count": 0,
   "metadata": {
    "application/vnd.databricks.v1+cell": {
     "cellMetadata": {
      "byteLimit": 2048000,
      "rowLimit": 10000
     },
     "inputWidgets": {},
     "nuid": "ae9751d3-294b-4548-b4d4-9193ee9240e1",
     "showTitle": false,
     "title": ""
    }
   },
   "outputs": [],
   "source": [
    "ta_aa_data_train"
   ]
  },
  {
   "cell_type": "code",
   "execution_count": 0,
   "metadata": {
    "application/vnd.databricks.v1+cell": {
     "cellMetadata": {
      "byteLimit": 2048000,
      "rowLimit": 10000
     },
     "inputWidgets": {},
     "nuid": "1a5751fc-67b2-4c6f-ba89-e8a6f53a1b57",
     "showTitle": false,
     "title": ""
    }
   },
   "outputs": [],
   "source": [
    "ta_aa_data_train.trip_subpurpose.value_counts()"
   ]
  },
  {
   "cell_type": "code",
   "execution_count": 0,
   "metadata": {
    "application/vnd.databricks.v1+cell": {
     "cellMetadata": {
      "byteLimit": 2048000,
      "rowLimit": 10000
     },
     "inputWidgets": {},
     "nuid": "35814789-42cc-4ab7-8434-690b6ad87025",
     "showTitle": false,
     "title": ""
    }
   },
   "outputs": [],
   "source": [
    "#turn this line off if do not want to use OR  data\n",
    "model_data=model_data.append(ta_aa_data_train, ignore_index=True)"
   ]
  },
  {
   "cell_type": "code",
   "execution_count": 0,
   "metadata": {
    "application/vnd.databricks.v1+cell": {
     "cellMetadata": {
      "byteLimit": 2048000,
      "rowLimit": 10000
     },
     "inputWidgets": {},
     "nuid": "cb9890cd-4d3b-4f6c-9aa6-f52efd8bd3b9",
     "showTitle": false,
     "title": ""
    }
   },
   "outputs": [],
   "source": [
    "model_data=model_data[\n",
    "  (model_data['trip_subpurpose'].isin(['VFR','BUSINESS_ONLY','VACATION_ONLY'])) \n",
    "                  & (model_data.prime_chanl_type_cd.isin(['BUSINESS','DIRECT','LEISURE','OTA','TMC']))\n",
    "                  #& (model_data.pnr_single_pax_count_indicator ==1)\n",
    "                    #  & (model_data['flt_dep_quarter'].isin([2,3]))\n",
    "                    # & (model_data.mkt_group == 'Core EU')\n",
    "                      ].copy()"
   ]
  },
  {
   "cell_type": "code",
   "execution_count": 0,
   "metadata": {
    "application/vnd.databricks.v1+cell": {
     "cellMetadata": {
      "byteLimit": 2048000,
      "rowLimit": 10000
     },
     "inputWidgets": {},
     "nuid": "b9335ac3-be40-4bb1-8c4d-c962c9b001b3",
     "showTitle": false,
     "title": ""
    }
   },
   "outputs": [],
   "source": [
    "#convert category variables into dummies for model training\n",
    "\n",
    "\n",
    "model_data_one_hot = pd.get_dummies(model_data, columns = [\n",
    "\n",
    "'prime_chanl_type_cd',\n",
    "'tkt_min_stay_category',\n",
    "'tkt_ap_category',\n",
    "'pnr_max_cabin_cd',\n",
    "#'flt_dep_quarter',\n",
    "#'mkt_group'\n",
    "\n",
    "  ])\n",
    "#print(model_data_one_hot)\n",
    "print(model_data_one_hot.columns.tolist())\n",
    "model_data_one_hot = model_data_one_hot.dropna()\n",
    "model_data_one_hot.shape"
   ]
  },
  {
   "cell_type": "code",
   "execution_count": 0,
   "metadata": {
    "application/vnd.databricks.v1+cell": {
     "cellMetadata": {
      "byteLimit": 2048000,
      "rowLimit": 10000
     },
     "inputWidgets": {},
     "nuid": "8e83ceb8-c876-4067-a9db-61c8f52adfde",
     "showTitle": false,
     "title": ""
    }
   },
   "outputs": [],
   "source": [
    "model_data_one_hot=model_data_one_hot[\n",
    "  (model_data_one_hot['trip_subpurpose'].isin(['VFR','BUSINESS_ONLY','VACATION_ONLY'])) \n",
    "                  \n",
    "                    #  & (model_data['flt_dep_quarter'].isin([2,3]))\n",
    "                    # & (model_data.mkt_group == 'Core EU')\n",
    "                      ].copy()"
   ]
  },
  {
   "cell_type": "code",
   "execution_count": 0,
   "metadata": {
    "application/vnd.databricks.v1+cell": {
     "cellMetadata": {
      "byteLimit": 2048000,
      "rowLimit": 10000
     },
     "inputWidgets": {},
     "nuid": "3f98c5ec-199e-4f31-b632-d79282026357",
     "showTitle": false,
     "title": ""
    }
   },
   "outputs": [],
   "source": [
    "#split training and testing data\n",
    "X = model_data_one_hot.drop(columns = ['trip_subpurpose','group_size','pnr_loctr_id', 'pnr_create_dt'])\n",
    "y = model_data_one_hot['trip_subpurpose']\n",
    "# dividing X, y into train and test data\n",
    "X_train, X_test, y_train, y_test = train_test_split(X, y, random_state = 0)\n",
    "\n",
    "\n",
    "X_resampled, y_resampled = X_train, y_train\n",
    "#ros = RandomOverSampler(random_state=0)\n",
    "#X_resampled, y_resampled = ros.fit_resample(X_train, y_train)\n",
    "#X_resampled, y_resampled = SMOTE().fit_resample(X_train, y_train)"
   ]
  },
  {
   "cell_type": "code",
   "execution_count": 0,
   "metadata": {
    "application/vnd.databricks.v1+cell": {
     "cellMetadata": {
      "byteLimit": 2048000,
      "rowLimit": 10000
     },
     "inputWidgets": {},
     "nuid": "7f02c908-b620-46c9-8210-27a3e3b8c172",
     "showTitle": false,
     "title": ""
    }
   },
   "outputs": [],
   "source": [
    "X.columns.tolist()"
   ]
  },
  {
   "cell_type": "code",
   "execution_count": 0,
   "metadata": {
    "application/vnd.databricks.v1+cell": {
     "cellMetadata": {
      "byteLimit": 2048000,
      "rowLimit": 10000
     },
     "inputWidgets": {},
     "nuid": "bb3145f4-fdf8-4b12-b3cd-400c5370e121",
     "showTitle": false,
     "title": ""
    }
   },
   "outputs": [],
   "source": [
    "# build RF\n",
    "#build a forest of 200 trees\n",
    "forest4 = RandomForestClassifier(n_estimators=200,random_state=0, max_depth=17)\n",
    "forest_model4 = forest4.fit(X_resampled, y_resampled)\n",
    "RF_feature_name = X.columns\n",
    "RF_class_name =forest4.classes_\n"
   ]
  },
  {
   "cell_type": "code",
   "execution_count": 0,
   "metadata": {
    "application/vnd.databricks.v1+cell": {
     "cellMetadata": {
      "byteLimit": 2048000,
      "rowLimit": 10000
     },
     "inputWidgets": {},
     "nuid": "0d2ae88d-5c81-44aa-93fd-23b078230461",
     "showTitle": false,
     "title": ""
    }
   },
   "outputs": [],
   "source": [
    "#generate predictions\n",
    "RF_predictions4 = forest_model4.predict(X_test)\n",
    "RF_pred_prob4 = forest_model4.predict_proba(X_test)\n",
    "#calculate performance\n",
    "RF_predict_prob4 = (np.sum(RF_pred_prob4, axis= 0)/len(y_test))\n",
    "RF_predict_prob_df4 = pd.DataFrame((RF_predict_prob4), index = RF_class_name)\n",
    "RF_true_prob_df4 = pd.DataFrame(y_test.value_counts()/len(y_test))\n",
    "RF_result4 = pd.concat([RF_predict_prob_df4, RF_true_prob_df4], axis=1).reindex(RF_predict_prob_df4.index)\n",
    "RF_result4.columns = ['Predicted Prob', 'True Prob']\n",
    "RF_result4['Absolute Bias'] =abs( (RF_result4['Predicted Prob'] - RF_result4['True Prob'] )/RF_result4['True Prob'])\n",
    "RF_fitting_predictions4 = forest_model4.predict(X_resampled)\n",
    "print('Label based TRAINING accuracy',accuracy_score(y_resampled, RF_fitting_predictions4) )\n",
    "print('Label based PREDICTING accuracy is', accuracy_score(y_test, RF_predictions4))\n",
    "print('Aggregated Probability based PREDICTING accuracy is\\n', RF_result4)"
   ]
  },
  {
   "cell_type": "code",
   "execution_count": 0,
   "metadata": {
    "application/vnd.databricks.v1+cell": {
     "cellMetadata": {
      "byteLimit": 2048000,
      "rowLimit": 10000
     },
     "inputWidgets": {},
     "nuid": "f691c189-0019-43c8-a2d9-f7520a9d99a7",
     "showTitle": false,
     "title": ""
    }
   },
   "outputs": [],
   "source": [
    "precision, recall, fscore, support = precision_recall_fscore_support(y_test, RF_predictions4)\n",
    "print('precision: {}'.format(precision))\n",
    "print('recall: {}'.format(recall))"
   ]
  },
  {
   "cell_type": "code",
   "execution_count": 0,
   "metadata": {
    "application/vnd.databricks.v1+cell": {
     "cellMetadata": {
      "byteLimit": 2048000,
      "rowLimit": 10000
     },
     "inputWidgets": {},
     "nuid": "04984573-7c51-455f-8f5b-b5b4f8de4804",
     "showTitle": false,
     "title": ""
    }
   },
   "outputs": [],
   "source": [
    "cm7 = confusion_matrix(y_test, RF_predictions4)\n",
    "disp = ConfusionMatrixDisplay(confusion_matrix=cm7,display_labels=RF_class_name)\n",
    "disp.plot()"
   ]
  },
  {
   "cell_type": "code",
   "execution_count": 0,
   "metadata": {
    "application/vnd.databricks.v1+cell": {
     "cellMetadata": {
      "byteLimit": 2048000,
      "rowLimit": 10000
     },
     "inputWidgets": {},
     "nuid": "d3d4058b-92f2-44b2-9a64-3904c753a72c",
     "showTitle": false,
     "title": ""
    }
   },
   "outputs": [],
   "source": [
    "#generate feature importance from RF\n",
    "feature_importances = pd.DataFrame(forest_model4.feature_importances_, index=X.columns, columns=[\"Importance\"])\n",
    "feature_importances.sort_values(by='Importance', ascending=False, inplace=True)\n",
    "feature_importances[:19].plot(kind='bar', figsize=(8,6))"
   ]
  },
  {
   "cell_type": "markdown",
   "metadata": {
    "application/vnd.databricks.v1+cell": {
     "cellMetadata": {},
     "inputWidgets": {},
     "nuid": "92c2af14-c4d6-4898-9a2c-c2909dc14e0d",
     "showTitle": false,
     "title": ""
    }
   },
   "source": [
    "## use TA AA pnr to predict trip intent"
   ]
  },
  {
   "cell_type": "code",
   "execution_count": 0,
   "metadata": {
    "application/vnd.databricks.v1+cell": {
     "cellMetadata": {
      "byteLimit": 2048000,
      "rowLimit": 10000
     },
     "inputWidgets": {},
     "nuid": "625adde4-0ea0-4139-97c7-e801a298fc29",
     "showTitle": false,
     "title": ""
    }
   },
   "outputs": [],
   "source": [
    "ta_aa = fileshare.path(directory_name=\"ra/projects/RA_Trip_Intent_Model\", file_name=\"ta_aa_pnr_v4_add_mkt.txt\")\n",
    "ta_aa_data = pd.read_csv(ta_aa, sep='\t')\n",
    "ta_aa_data.columns = ta_aa_data.columns.str.lower()\n",
    "ta_aa_data = ta_aa_data.dropna()\n",
    "print(ta_aa_data.shape)\n",
    "print(ta_aa_data.columns)"
   ]
  },
  {
   "cell_type": "code",
   "execution_count": 0,
   "metadata": {
    "application/vnd.databricks.v1+cell": {
     "cellMetadata": {
      "byteLimit": 2048000,
      "rowLimit": 10000
     },
     "inputWidgets": {},
     "nuid": "65397619-9fa2-42fe-817c-4605270260d2",
     "showTitle": false,
     "title": ""
    }
   },
   "outputs": [],
   "source": [
    "print(ta_aa_data.columns)"
   ]
  },
  {
   "cell_type": "code",
   "execution_count": 0,
   "metadata": {
    "application/vnd.databricks.v1+cell": {
     "cellMetadata": {
      "byteLimit": 2048000,
      "rowLimit": 10000
     },
     "inputWidgets": {},
     "nuid": "b737543a-ad18-4fc7-9707-3a255d6c7344",
     "showTitle": false,
     "title": ""
    }
   },
   "outputs": [],
   "source": [
    "ta_aa_data.pnr_max_cabin_cd.value_counts()"
   ]
  },
  {
   "cell_type": "code",
   "execution_count": 0,
   "metadata": {
    "application/vnd.databricks.v1+cell": {
     "cellMetadata": {
      "byteLimit": 2048000,
      "rowLimit": 10000
     },
     "inputWidgets": {},
     "nuid": "73d2cd82-e101-4024-a823-5b9808ff5ca0",
     "showTitle": false,
     "title": ""
    }
   },
   "outputs": [],
   "source": [
    "ta_aa_data_train = ta_aa_data[[\n",
    "\n",
    "'pnr_single_pax_count_indicator',\n",
    "'ap',\n",
    "'tkt_min_stay',\n",
    "'prime_chanl_type_cd',\n",
    "'tkt_min_stay_category',\n",
    "'tkt_ap_category',\n",
    "'pnr_max_cabin_cd',\n",
    "#'flt_dep_quarter',\n",
    "#'mkt_group'\n",
    "]]"
   ]
  },
  {
   "cell_type": "code",
   "execution_count": 0,
   "metadata": {
    "application/vnd.databricks.v1+cell": {
     "cellMetadata": {
      "byteLimit": 2048000,
      "rowLimit": 10000
     },
     "inputWidgets": {},
     "nuid": "57321253-0469-4657-8d5c-25d2ae2039ee",
     "showTitle": false,
     "title": ""
    }
   },
   "outputs": [],
   "source": [
    "ta_aa_data_train.shape"
   ]
  },
  {
   "cell_type": "code",
   "execution_count": 0,
   "metadata": {
    "application/vnd.databricks.v1+cell": {
     "cellMetadata": {
      "byteLimit": 2048000,
      "rowLimit": 10000
     },
     "inputWidgets": {},
     "nuid": "640e559f-88eb-4a18-9346-1b18daed7513",
     "showTitle": false,
     "title": ""
    }
   },
   "outputs": [],
   "source": [
    "ta_aa_data_one_hot = pd.get_dummies(ta_aa_data_train, columns = [\n",
    "\n",
    "'prime_chanl_type_cd',\n",
    "'tkt_min_stay_category',\n",
    "'tkt_ap_category',\n",
    "'pnr_max_cabin_cd',\n",
    "#'flt_dep_quarter',\n",
    "#'mkt_group'\n",
    "  ])\n"
   ]
  },
  {
   "cell_type": "code",
   "execution_count": 0,
   "metadata": {
    "application/vnd.databricks.v1+cell": {
     "cellMetadata": {
      "byteLimit": 2048000,
      "rowLimit": 10000
     },
     "inputWidgets": {},
     "nuid": "274463cb-9460-49a9-b020-3068f785e81a",
     "showTitle": false,
     "title": ""
    }
   },
   "outputs": [],
   "source": [
    "ta_aa_data_train.dtypes"
   ]
  },
  {
   "cell_type": "code",
   "execution_count": 0,
   "metadata": {
    "application/vnd.databricks.v1+cell": {
     "cellMetadata": {
      "byteLimit": 2048000,
      "rowLimit": 10000
     },
     "inputWidgets": {},
     "nuid": "acfd1cb1-1146-46f5-bd9a-bf97a832db5c",
     "showTitle": false,
     "title": ""
    }
   },
   "outputs": [],
   "source": [
    "ta_aa_data_one_hot.shape"
   ]
  },
  {
   "cell_type": "code",
   "execution_count": 0,
   "metadata": {
    "application/vnd.databricks.v1+cell": {
     "cellMetadata": {
      "byteLimit": 2048000,
      "rowLimit": 10000
     },
     "inputWidgets": {},
     "nuid": "b6b93162-f3ba-4737-a0d4-4c095d21fcfd",
     "showTitle": false,
     "title": ""
    }
   },
   "outputs": [],
   "source": [
    "ta_aa_data_one_hot=ta_aa_data_one_hot.dropna()"
   ]
  },
  {
   "cell_type": "code",
   "execution_count": 0,
   "metadata": {
    "application/vnd.databricks.v1+cell": {
     "cellMetadata": {
      "byteLimit": 2048000,
      "rowLimit": 10000
     },
     "inputWidgets": {},
     "nuid": "44215e60-8578-4728-8700-708807d6f171",
     "showTitle": false,
     "title": ""
    }
   },
   "outputs": [],
   "source": [
    "ta_aa_data_one_hot.shape"
   ]
  },
  {
   "cell_type": "code",
   "execution_count": 0,
   "metadata": {
    "application/vnd.databricks.v1+cell": {
     "cellMetadata": {
      "byteLimit": 2048000,
      "rowLimit": 10000
     },
     "inputWidgets": {},
     "nuid": "56a33212-20a4-4b92-975e-37d718607f93",
     "showTitle": false,
     "title": ""
    }
   },
   "outputs": [],
   "source": [
    "RF_predictions_ta_aa = forest_model4.predict(ta_aa_data_one_hot)"
   ]
  },
  {
   "cell_type": "code",
   "execution_count": 0,
   "metadata": {
    "application/vnd.databricks.v1+cell": {
     "cellMetadata": {
      "byteLimit": 2048000,
      "rowLimit": 10000
     },
     "inputWidgets": {},
     "nuid": "c3ed4e21-343b-4b19-81e4-d995568608bd",
     "showTitle": false,
     "title": ""
    }
   },
   "outputs": [],
   "source": [
    "RF_predictions_ta_aa.shape"
   ]
  },
  {
   "cell_type": "code",
   "execution_count": 0,
   "metadata": {
    "application/vnd.databricks.v1+cell": {
     "cellMetadata": {
      "byteLimit": 2048000,
      "rowLimit": 10000
     },
     "inputWidgets": {},
     "nuid": "b6a6639f-44dd-4afd-ab41-d1a651a07af1",
     "showTitle": false,
     "title": ""
    }
   },
   "outputs": [],
   "source": [
    "RF_predictions_ta_aa_prob = forest_model4.predict_proba(ta_aa_data_one_hot)"
   ]
  },
  {
   "cell_type": "code",
   "execution_count": 0,
   "metadata": {
    "application/vnd.databricks.v1+cell": {
     "cellMetadata": {
      "byteLimit": 2048000,
      "rowLimit": 10000
     },
     "inputWidgets": {},
     "nuid": "02551655-8036-4fdc-80c9-312b8e648b06",
     "showTitle": false,
     "title": ""
    }
   },
   "outputs": [],
   "source": [
    "RF_predictions_ta_aa_prob.shape"
   ]
  },
  {
   "cell_type": "code",
   "execution_count": 0,
   "metadata": {
    "application/vnd.databricks.v1+cell": {
     "cellMetadata": {
      "byteLimit": 2048000,
      "rowLimit": 10000
     },
     "inputWidgets": {},
     "nuid": "62d52103-58ce-4fd4-8379-60b0739906a8",
     "showTitle": false,
     "title": ""
    }
   },
   "outputs": [],
   "source": [
    "forest_model4.classes_"
   ]
  },
  {
   "cell_type": "code",
   "execution_count": 0,
   "metadata": {
    "application/vnd.databricks.v1+cell": {
     "cellMetadata": {
      "byteLimit": 2048000,
      "rowLimit": 10000
     },
     "inputWidgets": {},
     "nuid": "497ae84a-806a-49da-9bfa-2752331fce72",
     "showTitle": false,
     "title": ""
    }
   },
   "outputs": [],
   "source": [
    "#order of column names need to match classes names above\n",
    "RF_predictions_ta_aa_prob = pd.DataFrame((RF_predictions_ta_aa_prob), columns= [\"ra_business_only_prob_pct\",\"ra_vacation_only_prob_pct\",\"ra_vfr_prob_pct\"])"
   ]
  },
  {
   "cell_type": "code",
   "execution_count": 0,
   "metadata": {
    "application/vnd.databricks.v1+cell": {
     "cellMetadata": {
      "byteLimit": 2048000,
      "rowLimit": 10000
     },
     "inputWidgets": {},
     "nuid": "cf4a8674-b03f-4118-9387-1bc009c036ee",
     "showTitle": false,
     "title": ""
    }
   },
   "outputs": [],
   "source": [
    "RF_predictions_ta_aa_prob.shape"
   ]
  },
  {
   "cell_type": "code",
   "execution_count": 0,
   "metadata": {
    "application/vnd.databricks.v1+cell": {
     "cellMetadata": {
      "byteLimit": 2048000,
      "rowLimit": 10000
     },
     "inputWidgets": {},
     "nuid": "2c2f1289-76e6-4f0b-8215-f7b0d8df5a21",
     "showTitle": false,
     "title": ""
    }
   },
   "outputs": [],
   "source": [
    "ta_aa_data['ra_predicted_trip_intent'] = RF_predictions_ta_aa"
   ]
  },
  {
   "cell_type": "code",
   "execution_count": 0,
   "metadata": {
    "application/vnd.databricks.v1+cell": {
     "cellMetadata": {
      "byteLimit": 2048000,
      "rowLimit": 10000
     },
     "inputWidgets": {},
     "nuid": "6fdea5bd-f3fa-4c0f-981e-a0eec64af4b6",
     "showTitle": false,
     "title": ""
    }
   },
   "outputs": [],
   "source": [
    "ta_aa_data.shape"
   ]
  },
  {
   "cell_type": "code",
   "execution_count": 0,
   "metadata": {
    "application/vnd.databricks.v1+cell": {
     "cellMetadata": {
      "byteLimit": 2048000,
      "rowLimit": 10000
     },
     "inputWidgets": {},
     "nuid": "628f7c60-49dd-4373-8f22-a75a120954de",
     "showTitle": false,
     "title": ""
    }
   },
   "outputs": [],
   "source": [
    "ta_aa_data.index = RF_predictions_ta_aa_prob.index"
   ]
  },
  {
   "cell_type": "code",
   "execution_count": 0,
   "metadata": {
    "application/vnd.databricks.v1+cell": {
     "cellMetadata": {
      "byteLimit": 2048000,
      "rowLimit": 10000
     },
     "inputWidgets": {},
     "nuid": "c79e1fc3-ad85-47b4-997d-20b6fdb202cf",
     "showTitle": false,
     "title": ""
    }
   },
   "outputs": [],
   "source": [
    "ta_aa_data = pd.concat([ta_aa_data,RF_predictions_ta_aa_prob], axis = 1, ignore_index= False)"
   ]
  },
  {
   "cell_type": "code",
   "execution_count": 0,
   "metadata": {
    "application/vnd.databricks.v1+cell": {
     "cellMetadata": {
      "byteLimit": 2048000,
      "rowLimit": 10000
     },
     "inputWidgets": {},
     "nuid": "33369701-080c-4a32-a79e-5019d75e0f8a",
     "showTitle": false,
     "title": ""
    }
   },
   "outputs": [],
   "source": [
    "ta_aa_data.shape"
   ]
  },
  {
   "cell_type": "code",
   "execution_count": 0,
   "metadata": {
    "application/vnd.databricks.v1+cell": {
     "cellMetadata": {
      "byteLimit": 2048000,
      "rowLimit": 10000
     },
     "inputWidgets": {},
     "nuid": "6905bf37-8ee4-4f67-b178-f0d7e7c62d4d",
     "showTitle": false,
     "title": ""
    }
   },
   "outputs": [],
   "source": [
    "ta_aa_data"
   ]
  },
  {
   "cell_type": "code",
   "execution_count": 0,
   "metadata": {
    "application/vnd.databricks.v1+cell": {
     "cellMetadata": {
      "byteLimit": 2048000,
      "rowLimit": 10000
     },
     "inputWidgets": {},
     "nuid": "9f7fd8f1-af6d-406c-8e0f-3da59b8b063c",
     "showTitle": false,
     "title": ""
    }
   },
   "outputs": [],
   "source": [
    "def func_ap_category2(row):\n",
    "  \n",
    "  if row['ap'] < 14:\n",
    "    return '0-13 AP'\n",
    "  elif row['ap'] < 28:\n",
    "    return '14-27 AP'\n",
    "  elif row['ap'] < 50:\n",
    "    return '28-49 AP'\n",
    "  elif row['ap'] < 90:\n",
    "    return '50-89 AP'\n",
    "  elif row['ap'] >= 90:\n",
    "    return '90+ AP'\n",
    "  else:\n",
    "    return 'Error'\n",
    "ta_aa_data['tkt_ap_category2'] = ta_aa_data.apply(func_ap_category2, axis = 1)"
   ]
  },
  {
   "cell_type": "code",
   "execution_count": 0,
   "metadata": {
    "application/vnd.databricks.v1+cell": {
     "cellMetadata": {
      "byteLimit": 2048000,
      "rowLimit": 10000
     },
     "inputWidgets": {},
     "nuid": "4ded1a33-4bd0-41f5-9436-0c8e2f4886e2",
     "showTitle": false,
     "title": ""
    }
   },
   "outputs": [],
   "source": [
    "ta_aa_data"
   ]
  },
  {
   "cell_type": "code",
   "execution_count": 0,
   "metadata": {
    "application/vnd.databricks.v1+cell": {
     "cellMetadata": {
      "byteLimit": 2048000,
      "rowLimit": 10000
     },
     "inputWidgets": {},
     "nuid": "41663509-1426-4cdc-bcfd-e5c3c5eb3bb2",
     "showTitle": false,
     "title": ""
    }
   },
   "outputs": [],
   "source": [
    "fileshare.to_csv(ta_aa_data, \"ra/projects/RA_Trip_Intent_Model/na_ta_aa_data_prediction.txt\",sep='\\t', index=False)\n"
   ]
  },
  {
   "cell_type": "code",
   "execution_count": 0,
   "metadata": {
    "application/vnd.databricks.v1+cell": {
     "cellMetadata": {},
     "inputWidgets": {},
     "nuid": "bc4d0c4f-57e8-4a7b-bf6f-beeb93923a89",
     "showTitle": false,
     "title": ""
    }
   },
   "outputs": [],
   "source": []
  },
  {
   "cell_type": "markdown",
   "metadata": {
    "application/vnd.databricks.v1+cell": {
     "cellMetadata": {},
     "inputWidgets": {},
     "nuid": "6b535338-8c83-42f8-86d7-00b7db33406a",
     "showTitle": false,
     "title": ""
    }
   },
   "source": [
    "## use TA AJB pnr to predict trip intent"
   ]
  },
  {
   "cell_type": "code",
   "execution_count": 0,
   "metadata": {
    "application/vnd.databricks.v1+cell": {
     "cellMetadata": {
      "byteLimit": 2048000,
      "rowLimit": 10000
     },
     "inputWidgets": {},
     "nuid": "a0ff9460-5360-49a9-ab7c-75c4adbf6ee1",
     "showTitle": false,
     "title": ""
    }
   },
   "outputs": [],
   "source": [
    "ta_ajb_pnr = fileshare.path(directory_name=\"ra/projects/RA_Trip_Intent_Model\", file_name=\"ta_ajb_pnr_v3_add_mkt.txt\")\n",
    "ta_ajb_data = pd.read_csv(ta_ajb_pnr, sep='\t')\n",
    "ta_ajb_data.columns = ta_ajb_data.columns.str.lower()\n",
    "ta_ajb_data=ta_ajb_data.dropna().copy()\n",
    "print(ta_ajb_data.shape)\n",
    "print(ta_ajb_data.columns)"
   ]
  },
  {
   "cell_type": "code",
   "execution_count": 0,
   "metadata": {
    "application/vnd.databricks.v1+cell": {
     "cellMetadata": {
      "byteLimit": 2048000,
      "rowLimit": 10000
     },
     "inputWidgets": {},
     "nuid": "b82ef41d-43aa-4efd-ad57-306a872c8bb3",
     "showTitle": false,
     "title": ""
    }
   },
   "outputs": [],
   "source": [
    "print(ta_ajb_data.columns)"
   ]
  },
  {
   "cell_type": "code",
   "execution_count": 0,
   "metadata": {
    "application/vnd.databricks.v1+cell": {
     "cellMetadata": {
      "byteLimit": 2048000,
      "rowLimit": 10000
     },
     "inputWidgets": {},
     "nuid": "922b05b6-8963-4eb2-8a48-e6223458676a",
     "showTitle": false,
     "title": ""
    }
   },
   "outputs": [],
   "source": [
    "ta_ajb_data.pnr_max_cabin_cd.value_counts()"
   ]
  },
  {
   "cell_type": "code",
   "execution_count": 0,
   "metadata": {
    "application/vnd.databricks.v1+cell": {
     "cellMetadata": {
      "byteLimit": 2048000,
      "rowLimit": 10000
     },
     "inputWidgets": {},
     "nuid": "05d0e069-8760-4e36-bfe7-c57c005484e0",
     "showTitle": false,
     "title": ""
    }
   },
   "outputs": [],
   "source": [
    "def pnr_max_cabin_cd(row):\n",
    "  if row['pnr_max_cabin_cd'] == 'F':\n",
    "    return 'F'\n",
    "  elif row['pnr_max_cabin_cd'] == 'C':\n",
    "    return 'C'\n",
    "  elif row['pnr_max_cabin_cd'] == 'W':\n",
    "    return 'W'\n",
    "  elif row['pnr_max_cabin_cd'] == 'Y':\n",
    "    return 'Y'\n",
    "  else:\n",
    "    return 'Y'\n",
    "ta_ajb_data['pnr_max_cabin_cd'] = ta_ajb_data.apply(pnr_max_cabin_cd, axis = 1)"
   ]
  },
  {
   "cell_type": "code",
   "execution_count": 0,
   "metadata": {
    "application/vnd.databricks.v1+cell": {
     "cellMetadata": {
      "byteLimit": 2048000,
      "rowLimit": 10000
     },
     "inputWidgets": {},
     "nuid": "5790cfa2-525d-402d-9ddc-db083de03783",
     "showTitle": false,
     "title": ""
    }
   },
   "outputs": [],
   "source": [
    "ta_ajb_data_train = ta_ajb_data[[\n",
    "  \n",
    "'pnr_single_pax_count_indicator',\n",
    "'ap',\n",
    "'tkt_min_stay',\n",
    "'prime_chanl_type_cd',\n",
    "'tkt_min_stay_category',\n",
    "'tkt_ap_category',\n",
    "'pnr_max_cabin_cd'\n",
    "]]"
   ]
  },
  {
   "cell_type": "code",
   "execution_count": 0,
   "metadata": {
    "application/vnd.databricks.v1+cell": {
     "cellMetadata": {
      "byteLimit": 2048000,
      "rowLimit": 10000
     },
     "inputWidgets": {},
     "nuid": "c5c9ec90-a4d4-403e-9d1b-dcd880a91fb4",
     "showTitle": false,
     "title": ""
    }
   },
   "outputs": [],
   "source": [
    "ta_ajb_data_train.shape"
   ]
  },
  {
   "cell_type": "code",
   "execution_count": 0,
   "metadata": {
    "application/vnd.databricks.v1+cell": {
     "cellMetadata": {
      "byteLimit": 2048000,
      "rowLimit": 10000
     },
     "inputWidgets": {},
     "nuid": "09b70bd9-f030-49d8-93f6-a5e31b1f2c98",
     "showTitle": false,
     "title": ""
    }
   },
   "outputs": [],
   "source": [
    "ta_ajb_data_one_hot = pd.get_dummies(ta_ajb_data_train, columns = [\n",
    "\n",
    "'prime_chanl_type_cd',\n",
    "'tkt_min_stay_category',\n",
    "'tkt_ap_category',\n",
    "'pnr_max_cabin_cd'\n",
    "\n",
    "  ])\n",
    "#ta_ajb_data_one_hot['prime_chanl_type_cd_ INC\\\"\"'] = 0\n",
    "#ta_ajb_data_one_hot['tkt_min_stay_category_Same Day Roundtrip'] = 0"
   ]
  },
  {
   "cell_type": "code",
   "execution_count": 0,
   "metadata": {
    "application/vnd.databricks.v1+cell": {
     "cellMetadata": {
      "byteLimit": 2048000,
      "rowLimit": 10000
     },
     "inputWidgets": {},
     "nuid": "4e235e8c-b60d-48a1-bf6c-a61bb32c5702",
     "showTitle": false,
     "title": ""
    }
   },
   "outputs": [],
   "source": [
    "ta_ajb_data_one_hot.shape"
   ]
  },
  {
   "cell_type": "code",
   "execution_count": 0,
   "metadata": {
    "application/vnd.databricks.v1+cell": {
     "cellMetadata": {
      "byteLimit": 2048000,
      "rowLimit": 10000
     },
     "inputWidgets": {},
     "nuid": "69fa60d7-1569-42ef-b085-976b349e67f2",
     "showTitle": false,
     "title": ""
    }
   },
   "outputs": [],
   "source": [
    "ta_ajb_data.shape"
   ]
  },
  {
   "cell_type": "code",
   "execution_count": 0,
   "metadata": {
    "application/vnd.databricks.v1+cell": {
     "cellMetadata": {
      "byteLimit": 2048000,
      "rowLimit": 10000
     },
     "inputWidgets": {},
     "nuid": "73ff7926-2143-4a06-ad76-4637bb081271",
     "showTitle": false,
     "title": ""
    }
   },
   "outputs": [],
   "source": [
    "ta_ajb_data_one_hot=ta_ajb_data_one_hot.dropna().copy()"
   ]
  },
  {
   "cell_type": "code",
   "execution_count": 0,
   "metadata": {
    "application/vnd.databricks.v1+cell": {
     "cellMetadata": {
      "byteLimit": 2048000,
      "rowLimit": 10000
     },
     "inputWidgets": {},
     "nuid": "8089916f-3973-40f4-836a-96cff4e5c0c1",
     "showTitle": false,
     "title": ""
    }
   },
   "outputs": [],
   "source": [
    "RF_predictions_ta_ajb = forest_model4.predict(ta_ajb_data_one_hot)"
   ]
  },
  {
   "cell_type": "code",
   "execution_count": 0,
   "metadata": {
    "application/vnd.databricks.v1+cell": {
     "cellMetadata": {
      "byteLimit": 2048000,
      "rowLimit": 10000
     },
     "inputWidgets": {},
     "nuid": "bb6d51f5-3397-470a-b3e1-17fea4a9682b",
     "showTitle": false,
     "title": ""
    }
   },
   "outputs": [],
   "source": [
    "RF_predictions_ta_ajb.shape"
   ]
  },
  {
   "cell_type": "code",
   "execution_count": 0,
   "metadata": {
    "application/vnd.databricks.v1+cell": {
     "cellMetadata": {
      "byteLimit": 2048000,
      "rowLimit": 10000
     },
     "inputWidgets": {},
     "nuid": "05719705-f1ce-418f-9c0b-83b2ba24396b",
     "showTitle": false,
     "title": ""
    }
   },
   "outputs": [],
   "source": [
    "RF_predictions_ta_ajb_prob = forest_model4.predict_proba(ta_ajb_data_one_hot)"
   ]
  },
  {
   "cell_type": "code",
   "execution_count": 0,
   "metadata": {
    "application/vnd.databricks.v1+cell": {
     "cellMetadata": {},
     "inputWidgets": {},
     "nuid": "7eaa1beb-950f-4577-a25f-6c8ab6f18328",
     "showTitle": false,
     "title": ""
    }
   },
   "outputs": [],
   "source": []
  },
  {
   "cell_type": "code",
   "execution_count": 0,
   "metadata": {
    "application/vnd.databricks.v1+cell": {
     "cellMetadata": {
      "byteLimit": 2048000,
      "rowLimit": 10000
     },
     "inputWidgets": {},
     "nuid": "bdcf8ae6-cc11-4185-9ead-6c4f62b1f3dc",
     "showTitle": false,
     "title": ""
    }
   },
   "outputs": [],
   "source": [
    "RF_predictions_ta_ajb_prob.shape"
   ]
  },
  {
   "cell_type": "code",
   "execution_count": 0,
   "metadata": {
    "application/vnd.databricks.v1+cell": {
     "cellMetadata": {
      "byteLimit": 2048000,
      "rowLimit": 10000
     },
     "inputWidgets": {},
     "nuid": "333d0e93-43bf-4d1b-b590-ca31f1bd2590",
     "showTitle": false,
     "title": ""
    }
   },
   "outputs": [],
   "source": [
    "RF_predictions_ta_ajb_prob = pd.DataFrame((RF_predictions_ta_ajb_prob), columns= RF_class_name)"
   ]
  },
  {
   "cell_type": "code",
   "execution_count": 0,
   "metadata": {
    "application/vnd.databricks.v1+cell": {
     "cellMetadata": {
      "byteLimit": 2048000,
      "rowLimit": 10000
     },
     "inputWidgets": {},
     "nuid": "8faf1d38-99c6-44b0-985b-93aec05d6952",
     "showTitle": false,
     "title": ""
    }
   },
   "outputs": [],
   "source": [
    "RF_predictions_ta_ajb_prob.shape"
   ]
  },
  {
   "cell_type": "code",
   "execution_count": 0,
   "metadata": {
    "application/vnd.databricks.v1+cell": {
     "cellMetadata": {},
     "inputWidgets": {},
     "nuid": "019e1f9a-b2fd-498f-b682-ab0e17376644",
     "showTitle": false,
     "title": ""
    }
   },
   "outputs": [],
   "source": [
    "#check if ajb data and one hot data order match\n",
    "#ta_ajb_data = pd.concat([ta_ajb_data,ta_ajb_data_one_hot], axis = 1)"
   ]
  },
  {
   "cell_type": "code",
   "execution_count": 0,
   "metadata": {
    "application/vnd.databricks.v1+cell": {
     "cellMetadata": {
      "byteLimit": 2048000,
      "rowLimit": 10000
     },
     "inputWidgets": {},
     "nuid": "e711fa6b-a6a7-465c-9dc2-ca537a65836b",
     "showTitle": false,
     "title": ""
    }
   },
   "outputs": [],
   "source": [
    "ta_ajb_data['predicted_trip_intent'] = RF_predictions_ta_ajb"
   ]
  },
  {
   "cell_type": "code",
   "execution_count": 0,
   "metadata": {
    "application/vnd.databricks.v1+cell": {
     "cellMetadata": {
      "byteLimit": 2048000,
      "rowLimit": 10000
     },
     "inputWidgets": {},
     "nuid": "03cf7750-2b3d-4465-8900-495e1f632d42",
     "showTitle": false,
     "title": ""
    }
   },
   "outputs": [],
   "source": [
    "ta_ajb_data.shape"
   ]
  },
  {
   "cell_type": "code",
   "execution_count": 0,
   "metadata": {
    "application/vnd.databricks.v1+cell": {
     "cellMetadata": {
      "byteLimit": 2048000,
      "rowLimit": 10000
     },
     "inputWidgets": {},
     "nuid": "94f82c61-d234-4e4b-b3c6-398081f141f4",
     "showTitle": false,
     "title": ""
    }
   },
   "outputs": [],
   "source": [
    "ta_ajb_data.index = RF_predictions_ta_ajb_prob.index"
   ]
  },
  {
   "cell_type": "code",
   "execution_count": 0,
   "metadata": {
    "application/vnd.databricks.v1+cell": {
     "cellMetadata": {
      "byteLimit": 2048000,
      "rowLimit": 10000
     },
     "inputWidgets": {},
     "nuid": "6af1ee56-fa3e-462c-a494-3d22c6803faf",
     "showTitle": false,
     "title": ""
    }
   },
   "outputs": [],
   "source": [
    "ta_ajb_data = pd.concat([ta_ajb_data,RF_predictions_ta_ajb_prob], axis = 1)"
   ]
  },
  {
   "cell_type": "code",
   "execution_count": 0,
   "metadata": {
    "application/vnd.databricks.v1+cell": {
     "cellMetadata": {
      "byteLimit": 2048000,
      "rowLimit": 10000
     },
     "inputWidgets": {},
     "nuid": "8bb61423-6ae6-4d1c-940b-544823f00365",
     "showTitle": false,
     "title": ""
    }
   },
   "outputs": [],
   "source": [
    "ta_ajb_data.shape"
   ]
  },
  {
   "cell_type": "code",
   "execution_count": 0,
   "metadata": {
    "application/vnd.databricks.v1+cell": {
     "cellMetadata": {
      "byteLimit": 2048000,
      "rowLimit": 10000
     },
     "inputWidgets": {},
     "nuid": "7382b658-54bb-42e5-950b-0f723869eb1d",
     "showTitle": false,
     "title": ""
    }
   },
   "outputs": [],
   "source": [
    "def func_ap_category2(row):\n",
    "  \n",
    "  if row['ap'] < 14:\n",
    "    return '0-13 AP'\n",
    "  elif row['ap'] < 28:\n",
    "    return '14-27 AP'\n",
    "  elif row['ap'] < 50:\n",
    "    return '28-49 AP'\n",
    "  elif row['ap'] < 90:\n",
    "    return '50-89 AP'\n",
    "  elif row['ap'] >= 90:\n",
    "    return '90+ AP'\n",
    "  else:\n",
    "    return 'Error'\n",
    "ta_ajb_data['tkt_ap_category2'] = ta_ajb_data.apply(func_ap_category2, axis = 1)"
   ]
  },
  {
   "cell_type": "code",
   "execution_count": 0,
   "metadata": {
    "application/vnd.databricks.v1+cell": {
     "cellMetadata": {
      "byteLimit": 2048000,
      "rowLimit": 10000
     },
     "inputWidgets": {},
     "nuid": "49a3d396-8b0a-48ef-879b-6b02027c9308",
     "showTitle": false,
     "title": ""
    }
   },
   "outputs": [],
   "source": [
    "ta_ajb_data"
   ]
  },
  {
   "cell_type": "code",
   "execution_count": 0,
   "metadata": {
    "application/vnd.databricks.v1+cell": {
     "cellMetadata": {
      "byteLimit": 2048000,
      "rowLimit": 10000
     },
     "inputWidgets": {},
     "nuid": "0efd1fd8-38a1-4054-80ec-8682386b295d",
     "showTitle": false,
     "title": ""
    }
   },
   "outputs": [],
   "source": [
    "ta_ajb_data=ta_ajb_data.dropna()\n",
    "ta_ajb_data.shape"
   ]
  },
  {
   "cell_type": "code",
   "execution_count": 0,
   "metadata": {
    "application/vnd.databricks.v1+cell": {
     "cellMetadata": {
      "byteLimit": 2048000,
      "rowLimit": 10000
     },
     "inputWidgets": {},
     "nuid": "fddc4981-9c55-4a7e-9134-ab6d1188977a",
     "showTitle": false,
     "title": ""
    }
   },
   "outputs": [],
   "source": [
    "ta_ajb_data.mkt.value_counts()"
   ]
  },
  {
   "cell_type": "code",
   "execution_count": 0,
   "metadata": {
    "application/vnd.databricks.v1+cell": {
     "cellMetadata": {
      "byteLimit": 2048000,
      "rowLimit": 10000
     },
     "inputWidgets": {},
     "nuid": "5aa90aa3-d40b-47ce-9d3a-beb9bc3cf3e2",
     "showTitle": false,
     "title": ""
    }
   },
   "outputs": [],
   "source": [
    "ta_ajb_prediction_data=spark.createDataFrame(ta_ajb_data)"
   ]
  },
  {
   "cell_type": "code",
   "execution_count": 0,
   "metadata": {
    "application/vnd.databricks.v1+cell": {
     "cellMetadata": {
      "byteLimit": 2048000,
      "rowLimit": 10000
     },
     "inputWidgets": {},
     "nuid": "cf54bbb1-88cd-43bf-94c6-f86d72bd3dc2",
     "showTitle": false,
     "title": ""
    }
   },
   "outputs": [],
   "source": [
    "ta_ajb_prediction_data.createOrReplaceTempView(\"ta_ajb_prediction_data\")"
   ]
  },
  {
   "cell_type": "code",
   "execution_count": 0,
   "metadata": {
    "application/vnd.databricks.v1+cell": {
     "cellMetadata": {
      "byteLimit": 2048000,
      "rowLimit": 10000
     },
     "inputWidgets": {},
     "nuid": "f51cb918-b7d9-4f68-b940-a6e7229e01ed",
     "showTitle": false,
     "title": ""
    }
   },
   "outputs": [],
   "source": [
    "od = mos.read_sql(\"\"\"\n",
    " SELECT\n",
    "\n",
    "PNR_LOCTR_ID,\n",
    "cast(PNR_CREATE_DT as date format 'mm/dd/YYYY')(VARCHAR(10)) AS PNR_CREATE_DT,\n",
    "\n",
    "CASE\n",
    "    WHEN (Trim(OD_DEP_CNTRY_CD) IN ('AU') OR Trim(OD_ARVL_CNTRY_CD) IN ('AU')) THEN 'Australia'\n",
    "    WHEN (Trim(OD_DEP_CNTRY_CD) IN ('NZ') OR Trim(OD_ARVL_CNTRY_CD) IN ('NZ')) THEN 'New Zealand'\n",
    "    WHEN (Trim(OD_DEP_CNTRY_CD) IN ('CN') OR Trim(OD_ARVL_CNTRY_CD) IN ('CN')) THEN 'China'\n",
    "    WHEN (Trim(OD_DEP_CNTRY_CD) IN ('KR') OR Trim(OD_ARVL_CNTRY_CD) IN ('KR')) THEN 'Korea'\n",
    "    WHEN (Trim(OD_DEP_CNTRY_CD) IN ('JP') OR Trim(OD_ARVL_CNTRY_CD) IN ('JP')) THEN 'Japan'\n",
    "    WHEN (Trim(OD_DEP_CNTRY_CD) IN ('IN') OR Trim(OD_ARVL_CNTRY_CD) IN ('IN')) THEN 'India'\n",
    "    WHEN ((Trim(OD_DEP_CNTRY_CD) IN ('US','MX') AND Trim(OD_ARVL_CNTRY_CD) IN ('AO','DJ','ET','KE','MZ','NA','RW','SC','SO','SD','TZ','UG','ZM','ZW'))\n",
    "        OR (Trim(OD_DEP_CNTRY_CD) IN ('AO','DJ','ET','KE','MZ','NA','RW','SC','SO','SD','TZ','UG','ZM','ZW') AND Trim(OD_ARVL_CNTRY_CD) IN ('US','MX'))) THEN 'Africa'\n",
    "    WHEN ((Trim(OD_DEP_CNTRY_CD) IN ('US','MX') AND Trim(OD_ARVL_CNTRY_CD) IN ('IQ','JO','KW','LB','OM','QA','SA','AE','AM','AZ','GE','UZ','KZ'))\n",
    "        OR (Trim(OD_DEP_CNTRY_CD) IN ('IQ','JO','KW','LB','OM','QA','SA','AE','AM','AZ','GE','UZ','KZ') AND Trim(OD_ARVL_CNTRY_CD) IN ('US','MX'))) THEN 'Middle East'\n",
    "    WHEN ((Trim(OD_DEP_CNTRY_CD) IN ('US','MX') AND Trim(OD_ARVL_CNTRY_CD) IN ('AF','BD','IN','MV','NP','PK','LK'))\n",
    "        OR (Trim(OD_DEP_CNTRY_CD) IN ('AF','BD','IN','MV','NP','PK','LK') AND Trim(OD_ARVL_CNTRY_CD) IN ('US','MX'))) THEN 'Subcontinent'\n",
    "    WHEN (Trim(OD_DEP_CNTRY_CD) IN ('GB','UK') OR Trim(OD_ARVL_CNTRY_CD) IN ('GB','UK')) THEN 'UK'\n",
    "    WHEN (Trim(OD_DEP_CNTRY_CD) IN ('ES') OR Trim(OD_ARVL_CNTRY_CD) IN ('ES')) THEN 'Spain'\n",
    "    WHEN (Trim(OD_DEP_CNTRY_CD) IN ('IL') OR Trim(OD_ARVL_CNTRY_CD) IN ('IL')) THEN 'Israel'\n",
    "    WHEN (Trim(OD_DEP_CNTRY_CD) IN ('AT','BE','BG','CH','CY','CZ','DE','DK','EE','FI','FR','GG','GI','GR','HR','HU','IE','IM','IS','IT','JE','LT','LU','LV','MT','NL','NO','PL','PT','RO','SE','SI','SK') \n",
    "        OR Trim(OD_ARVL_CNTRY_CD) IN ('AT','BE','BG','CH','CY','CZ','DE','DK','EE','FI','FR','GG','GI','GR','HR','HU','IE','IM','IS','IT','JE','LT','LU','LV','MT','NL','NO','PL','PT','RO','SE','SI','SK')) THEN 'Core Europe'\n",
    "    ELSE 'OTHER' \n",
    "END AS INTL_REGION,\n",
    "CASE\n",
    "WHEN OD_DEP_CNTRY_CD IN ('US','CA','PR','VI') THEN Trim(OD_ORIGIN_CITY_METRO_CD)||Trim(OD_DESTNTN_CITY_METRO_CD)\n",
    "ELSE Trim(OD_DESTNTN_CITY_METRO_CD)||Trim(OD_ORIGIN_CITY_METRO_CD) END AS MKT\n",
    "FROM PROD_JBA_VW.JBA_BKG_OD_DETAIL\n",
    "WHERE 1=1\n",
    "AND OD_DEP_DT BETWEEN '2022-10-01' AND '2023-09-30'\n",
    "AND PNR_CREATE_DT >= '2021-10-01'\n",
    "AND BKG_POS_CNTRY_CD IN ('US','CA','PR','VI')\n",
    "AND INTL_REGION IN ('UK','Spain','Core Europe','Israel')\n",
    "AND SNPSHT_DT >=   '2021-10-01'                \n",
    "QUALIFY Row_Number () Over (PARTITION BY PNR_LOCTR_ID, PNR_CREATE_DT ORDER BY OD_TTL_NET_YQ_USD_AMT DESC) = 1          \n",
    " \"\"\")\n",
    "od.createOrReplaceTempView(\"od\")\n"
   ]
  },
  {
   "cell_type": "code",
   "execution_count": 0,
   "metadata": {
    "application/vnd.databricks.v1+cell": {
     "cellMetadata": {
      "byteLimit": 2048000,
      "implicitDf": true,
      "rowLimit": 10000
     },
     "inputWidgets": {},
     "nuid": "7c2e546e-bfa0-4658-89e3-a838dbd9917c",
     "showTitle": false,
     "title": ""
    }
   },
   "outputs": [],
   "source": [
    "%sql\n",
    "select MKT, COUNT(*) AS PNR_CNT from od GROUP BY 1 ORDER BY 2 DESC"
   ]
  },
  {
   "cell_type": "code",
   "execution_count": 0,
   "metadata": {
    "application/vnd.databricks.v1+cell": {
     "cellMetadata": {
      "byteLimit": 2048000,
      "implicitDf": true,
      "rowLimit": 10000
     },
     "inputWidgets": {},
     "nuid": "9730b85c-6bc5-4708-a799-2bd41bff3666",
     "showTitle": false,
     "title": ""
    }
   },
   "outputs": [],
   "source": [
    "%sql select * from od"
   ]
  },
  {
   "cell_type": "code",
   "execution_count": 0,
   "metadata": {
    "application/vnd.databricks.v1+cell": {
     "cellMetadata": {
      "byteLimit": 2048000,
      "implicitDf": true,
      "rowLimit": 10000
     },
     "inputWidgets": {},
     "nuid": "536011aa-d045-4360-9044-9c3c92eca9cf",
     "showTitle": false,
     "title": ""
    }
   },
   "outputs": [],
   "source": [
    "%sql select * from ta_ajb_prediction_data"
   ]
  },
  {
   "cell_type": "code",
   "execution_count": 0,
   "metadata": {
    "application/vnd.databricks.v1+cell": {
     "cellMetadata": {
      "byteLimit": 2048000,
      "rowLimit": 10000
     },
     "inputWidgets": {},
     "nuid": "9226ba94-b7d6-4d67-a515-0318673db168",
     "showTitle": false,
     "title": ""
    }
   },
   "outputs": [],
   "source": [
    "output = spark.sql(\n",
    "  \"\"\"\n",
    "  select\n",
    "  a.*,\n",
    "  case\n",
    "  WHEN trim(b.MKT) IN (\n",
    "\n",
    "'DFWLON','MSYLON','CLTLON','PDXLON','RDULON','CVGLON','PHLLON','BWILON','CHIVCE','PHLVCE','SFOMAD','LAXMAD','CHIMAD',\n",
    "'CLTMAD','PHLATH','PHLNAP','PHLLIS','PHLDUB','CHIATH','CHIHEL','BOSMAD','PHLMAD','CHILON','BOSLON','MIALON','LAXLON',\n",
    "'CHIBCN','NYCBCN','DFWPAR','CHIPAR','CHIROM','NYCROM'\n",
    ") THEN trim(b.MKT)\n",
    "ELSE 'OTHER'\n",
    "END AS MODIFIED_MKT\n",
    "  FROM ta_ajb_prediction_data a\n",
    "  left join od b\n",
    "  on TRIM(a.pnr_loctr_id) = TRIM(b.PNR_LOCTR_ID) and a.pnr_create_dt  = b.PNR_CREATE_DT\n",
    "\"\"\"\n",
    ")\n",
    "output.createOrReplaceTempView(\"output\")"
   ]
  },
  {
   "cell_type": "code",
   "execution_count": 0,
   "metadata": {
    "application/vnd.databricks.v1+cell": {
     "cellMetadata": {
      "byteLimit": 2048000,
      "implicitDf": true,
      "rowLimit": 10000
     },
     "inputWidgets": {},
     "nuid": "74204563-b2d6-4e6c-a32c-cffad228101b",
     "showTitle": false,
     "title": ""
    }
   },
   "outputs": [],
   "source": [
    "%sql\n",
    "select MODIFIED_MKT, COUNT(*) AS PNR_CNT from output GROUP BY 1 ORDER BY 2 DESC"
   ]
  },
  {
   "cell_type": "code",
   "execution_count": 0,
   "metadata": {
    "application/vnd.databricks.v1+cell": {
     "cellMetadata": {
      "byteLimit": 2048000,
      "implicitDf": true,
      "rowLimit": 10000
     },
     "inputWidgets": {},
     "nuid": "3b5cbba9-9123-4aea-baae-632470b3f2dc",
     "showTitle": false,
     "title": ""
    }
   },
   "outputs": [],
   "source": [
    "%sql\n",
    "\n",
    "DROP TABLE IF EXISTS rm_workspace.ta_ajb_prediction_with_mkt;\n",
    "CREATE TABLE rm_workspace.ta_ajb_prediction_data\n",
    "USING DELTA\n",
    "LOCATION \"abfss://rmsbx@aabaoriondlsprod.dfs.core.windows.net/struct/chengao/ta_ajb_prediction_with_mkt\"\n",
    "\n",
    "AS (\n",
    "\n",
    "  SELECT * FROM output\n",
    ")"
   ]
  },
  {
   "cell_type": "code",
   "execution_count": 0,
   "metadata": {
    "application/vnd.databricks.v1+cell": {
     "cellMetadata": {
      "byteLimit": 2048000,
      "rowLimit": 10000
     },
     "inputWidgets": {},
     "nuid": "e69d9561-ae5f-428a-9a18-25eb51d0108e",
     "showTitle": false,
     "title": ""
    }
   },
   "outputs": [],
   "source": [
    "fileshare.to_csv(output, \"ra/projects/RA_Trip_Intent_Model/na_ta_ajb_data_prediction_with_mkt.txt\",sep='\\t', index=False)\n"
   ]
  }
 ],
 "metadata": {
  "application/vnd.databricks.v1+notebook": {
   "dashboards": [],
   "language": "python",
   "notebookMetadata": {
    "mostRecentlyExecutedCommandWithImplicitDF": {
     "commandId": 3773814713944047,
     "dataframes": [
      "_sqldf"
     ]
    },
    "pythonIndentUnit": 2
   },
   "notebookName": "Trip Intent Modeling TA 4.0 NA POS Pricing Segmentation",
   "widgets": {}
  }
 },
 "nbformat": 4,
 "nbformat_minor": 0
}
